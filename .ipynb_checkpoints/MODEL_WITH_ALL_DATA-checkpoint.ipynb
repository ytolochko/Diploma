{
 "cells": [
  {
   "cell_type": "code",
   "execution_count": 82,
   "metadata": {},
   "outputs": [],
   "source": [
    "import numpy as np\n",
    "import geopandas as gpd\n",
    "from shapely.geometry import Point\n",
    "import pandas as pd\n",
    "import re as re\n",
    "import os\n",
    "import copy\n",
    "import statsmodels.formula.api as sm\n",
    "import pymc3 as pm\n",
    "import matplotlib.pyplot as plt"
   ]
  },
  {
   "cell_type": "code",
   "execution_count": 121,
   "metadata": {},
   "outputs": [
    {
     "name": "stdout",
     "output_type": "stream",
     "text": [
      "Warning: CRS does not match!\n",
      "Warning: CRS does not match!\n"
     ]
    }
   ],
   "source": [
    "drc = pd.read_excel('Data\\\\south_of_sahara\\\\DRC_Conflict_27June2012.xlsx', header = 0, index_col = 0)\n",
    "uganda = pd.read_excel('Data\\\\south_of_sahara\\\\Uganda_Conflict_27June2012.xlsx', header = 0, index_col = 0)\n",
    "ethiopia = pd.read_excel('Data\\\\south_of_sahara\\\\Ethiopia_Conflict_27June2012.xlsx', header = 0, index_col = 0)\n",
    "sudan = pd.read_excel('Data\\\\south_of_sahara\\\\Sudan_Conflict_27June2012.xlsx', header = 0, index_col = 0)\n",
    "burundi = pd.read_excel('Data\\\\south_of_sahara\\\\Burundi_Conflict_20June2012.xlsx', header = 0, index_col = 0)\n",
    "\n",
    "ethiopia.drop(ethiopia[ethiopia['precision'] == '.'].index, inplace = True)\n",
    "burundi.drop(burundi[burundi['precision'] == '        .'].index, inplace = True)\n",
    "\n",
    "all_provinces = gpd.read_file('Data\\\\Shapefiles\\\\ADM1\\\\compiled.shp')\n",
    "\n",
    "drc = drc[drc['precision'] <=6]\n",
    "uganda = uganda[uganda['precision'] <=6]\n",
    "ethiopia = ethiopia[ethiopia['precision'] <=6]\n",
    "sudan = sudan[sudan['precision'] <=6]\n",
    "burundi = burundi[burundi['precision'] <=6]\n",
    "\n",
    "\n",
    "worker_deaths = pd.read_csv('Data\\\\security_incidents2018-08-02.csv', encoding = \"ISO-8859-1\")\n",
    "conflict = pd.read_csv('Data\\\\conflict_data\\\\gedevents-2018-07-13.csv', header = 0, index_col = 0)\n",
    "\n",
    "geometry = [Point(xy) for xy in zip(conflict.longitude, conflict.latitude)]\n",
    "gconflict = gpd.GeoDataFrame(conflict, crs = {'init': 'epsg:4326'}, geometry = geometry)\n",
    "\n",
    "geometry = [Point(xy) for xy in zip(worker_deaths.Longitude, worker_deaths.Latitude)]\n",
    "g_w_d = gpd.GeoDataFrame(worker_deaths, crs = {'init': 'epsg:4326'}, geometry = geometry)\n",
    "\n",
    "gconflict = gpd.sjoin(gconflict, all_provinces, how=\"inner\")\n",
    "g_w_d = gpd.sjoin(g_w_d, all_provinces, how=\"inner\")"
   ]
  },
  {
   "cell_type": "code",
   "execution_count": 84,
   "metadata": {
    "collapsed": true
   },
   "outputs": [],
   "source": [
    "def recode_commitments(df):\n",
    "    \"\"\"\n",
    "        Commitments are coded for for all locations within a project. \n",
    "        To arrive at an average per location divide the value over numbloc\n",
    "    \"\"\"\n",
    "    df['usdcr'] = df['usdcr'] / df['numbloc']\n",
    "    df['usdco'] = df['usdco'] / df['numbloc']\n",
    "    return df\n",
    "\n",
    "def geocode(df):\n",
    "    geometry = [Point(xy) for xy in zip(df.long, df.lat)]\n",
    "    gdf = gpd.GeoDataFrame(df, crs = {'init': 'epsg:4326'}, geometry = geometry)\n",
    "    gaid = gpd.sjoin(gdf, all_provinces, how=\"inner\")\n",
    "    return gaid"
   ]
  },
  {
   "cell_type": "code",
   "execution_count": 85,
   "metadata": {
    "scrolled": false
   },
   "outputs": [
    {
     "name": "stdout",
     "output_type": "stream",
     "text": [
      "Warning: CRS does not match!\n",
      "Warning: CRS does not match!\n",
      "Warning: CRS does not match!\n",
      "Warning: CRS does not match!\n",
      "Warning: CRS does not match!\n"
     ]
    }
   ],
   "source": [
    "countries = [drc, uganda, ethiopia, sudan, burundi]\n",
    "geoaid = [geocode(country) for country in countries]\n",
    "geoaid = list(map(recode_commitments, geoaid))\n",
    "\n",
    "geoaid_df = pd.DataFrame()\n",
    "for country in geoaid:\n",
    "    geoaid_df = geoaid_df.append(country)"
   ]
  },
  {
   "cell_type": "code",
   "execution_count": 98,
   "metadata": {
    "collapsed": true
   },
   "outputs": [],
   "source": [
    "geoaid_df.loc[:, 'dname'] = geoaid_df['dname'].apply(lambda x: x.replace(\" \", \"\"))\n",
    "geoaid_df.loc[geoaid_df['dname'] == 'BELGIU', 'dname'] = 'BELGIUM'\n",
    "geoaid_df.loc[geoaid_df['dname'] == 'FINLAN', 'dname'] = 'FINLAND'\n",
    "geoaid_df.loc[geoaid_df['dname'] == 'IRELAN', 'dname'] = 'IRELAND'\n",
    "geoaid_df.loc[geoaid_df['dname'] == 'PORTUG', 'dname'] = 'PORTUGAL'\n",
    "geoaid_df.loc[geoaid_df['dname'] == 'GERMAN', 'dname'] = 'GERMANY'\n",
    "geoaid_df.loc[geoaid_df['dname'] == 'AUSTRI', 'dname'] = 'AUSTRIA'\n",
    "geoaid_df.loc[geoaid_df['dname'] == 'DENMAR', 'dname'] = 'DENMARK'\n",
    "geoaid_df.loc[geoaid_df['dname'] == 'SWITZE', 'dname'] = 'SWITZERLAND'\n",
    "geoaid_df.loc[geoaid_df['dname'] == 'LUXEMB', 'dname'] = 'LUXEMBOURG'\n",
    "geoaid_df.loc[geoaid_df['dname'] == 'AUSTRA', 'dname'] = 'AUSTRALIA'\n",
    "geoaid_df.loc[geoaid_df['dname'] == 'NETHER', 'dname'] = 'NETHERLANDS'"
   ]
  },
  {
   "cell_type": "code",
   "execution_count": 87,
   "metadata": {},
   "outputs": [],
   "source": [
    "# Func calculates the coefficient of unalikeability (as defined by Kader 2007) of every sublcass of first_group variable by topic_name\n",
    "# E.g. unalikeability of project location for each aid donor -> calc_unalikeability(gaid, 'donors', 'ad_sector_names')\n",
    "\n",
    "def calc_unalikeability(data, first_group, topic_name):\n",
    "    \n",
    "    # prepare data: group by first_group and topic_name, and divide by the size of the respective group\n",
    "    # thus we obtain the share that each topic_name has in the respective first_group\n",
    "    \n",
    "    d = (data.groupby([first_group, topic_name]).size() / data.groupby([first_group]).size())\n",
    "    \n",
    "    # here we get the keys for the first level grouping. So, the unique values of first group column\n",
    "    keys = []\n",
    "    for i in d.index:\n",
    "        keys.append(i[0])\n",
    "    keys = set(keys)\n",
    "    \n",
    "    # here we calculate the actual coefficient\n",
    "    # for every value of first_group we calculate its coefficient:\n",
    "    # coefficient is defined as 1 - SUM_i(p_i^2), where p_i is the share of the ith subgroup in the total group. \n",
    "    \n",
    "    coefs = {}\n",
    "    for key in keys:\n",
    "        s = 0\n",
    "        for subgroup in d[key]:\n",
    "            s += subgroup ** 2\n",
    "        coef = 1 - s\n",
    "        coefs[key] = coef\n",
    "    return pd.Series(coefs)\n",
    "\n",
    "\n",
    "# calculates the variablity of topic_name (e.g. total commitments of money) for every member of first_group\n",
    "def calc_var(data, first_group, topic_name):\n",
    "    d = data.groupby(first_group)\n",
    "    \n",
    "    def var(d):\n",
    "        d = d[topic_name]\n",
    "        d = (d - min(d)) / (max(d) - min(d))\n",
    "        \n",
    "        if np.isnan(np.var(d)):\n",
    "            return 0\n",
    "        \n",
    "        return np.var(d)\n",
    "    \n",
    "    return d.apply(var)"
   ]
  },
  {
   "cell_type": "code",
   "execution_count": 99,
   "metadata": {},
   "outputs": [],
   "source": [
    "adaptability_by_focus = calc_unalikeability(geoaid_df, 'dname', 'crspcode')\n",
    "adaptability_by_location =calc_unalikeability(geoaid_df, 'dname', 'NAME_1')\n",
    "adaptability_by_start_year = calc_unalikeability(geoaid_df, 'dname', 'year')\n",
    "adaptability_by_commitment = calc_var(geoaid_df, 'dname', 'usdco')\n",
    "composite_adaptability = adaptability_by_commitment + adaptability_by_start_year + adaptability_by_location + adaptability_by_focus\n",
    "median = composite_adaptability.median()\n",
    "high_adaptability = composite_adaptability[composite_adaptability >= median]\n",
    "low_adaptability = composite_adaptability[composite_adaptability < median]"
   ]
  },
  {
   "cell_type": "code",
   "execution_count": 132,
   "metadata": {
    "collapsed": true
   },
   "outputs": [],
   "source": [
    "# Compute the year, ADM1 pairs of events when aid workers were killed. \n",
    "# Then, we can assume that these are unreceptive year, region pairs.\n",
    "# However, we can also divide this into 2 subgroups: more than average (or median) casualties vs less than average (or median) casualties\n",
    "worker_deaths_grouped = g_w_d.groupby(['Year', 'NAME_1'])['Total affected'].sum()\n",
    "worker_deaths_grouped.to_csv('measures_indices\\\\year_location_pairs.csv')\n",
    "\n",
    "# The idea is that low_receptivity is depcited by a lot of worker deaths\n",
    "# high receptivity is depicted by a no worker deaths\n"
   ]
  },
  {
   "cell_type": "code",
   "execution_count": 144,
   "metadata": {
    "scrolled": true
   },
   "outputs": [
    {
     "name": "stderr",
     "output_type": "stream",
     "text": [
      "10856it [02:02, 88.68it/s]\n"
     ]
    }
   ],
   "source": [
    "# custom function to check whether a tuple is included in an array of tuples (for some reason, basic function did not work)\n",
    "def check_in (tupl, array):\n",
    "    for element in array:\n",
    "        if (tupl[0] == element[0]) & (tupl[1] == element[1]):\n",
    "            return True\n",
    "\n",
    "# select those row numbers (indices) of gaid dataframe that represent projects that started in the same year/adm1 combination\n",
    "# as highly receptive ones\n",
    "low_receptive_indices = []\n",
    "\n",
    "low_receptive = pd.DataFrame()\n",
    "highly_receptive = pd.DataFrame()\n",
    "\n",
    "\n",
    "for index, row in tqdm(geoaid_df.iterrows()):\n",
    "    tupl = (int(row['year']), row['NAME_1'])\n",
    "    if check_in(tupl, worker_deaths_grouped.index.values):\n",
    "        low_receptive_indices.append(index)\n",
    "        low_receptive = low_receptive.append(row)\n",
    "    else:\n",
    "        highly_receptive = highly_receptive.append(row)"
   ]
  },
  {
   "cell_type": "code",
   "execution_count": 148,
   "metadata": {},
   "outputs": [],
   "source": [
    "# High receptivity + high adaptability indices\n",
    "high_receptivity_high_adaptability = highly_receptive[highly_receptive['dname'].isin(high_adaptability.index)]\n",
    "high_receptivity_low_adaptability = highly_receptive[highly_receptive['dname'].isin(low_adaptability.index)]\n",
    "\n",
    "low_receptivity_high_adaptability = low_receptive[low_receptive['dname'].isin(high_adaptability.index)]\n",
    "low_receptivity_low_adaptability = low_receptive[low_receptive['dname'].isin(low_adaptability.index)]"
   ]
  },
  {
   "cell_type": "code",
   "execution_count": 155,
   "metadata": {
    "collapsed": true
   },
   "outputs": [],
   "source": [
    "def add_lag(df, column_name, new_name):\n",
    "    output = pd.DataFrame()\n",
    "    df[new_name] = df.groupby(level = 0)[column_name].shift(1)\n",
    "    by_country = df.groupby(level = 0)\n",
    "    for name, group in by_country:\n",
    "        country = group.reset_index()\n",
    "        last_row = country.iloc[-1, :]\n",
    "        temp = copy.deepcopy(last_row)\n",
    "        temp['year'] += 1\n",
    "        temp[new_name] = temp[column_name]\n",
    "        temp[column_name] = np.nan\n",
    "\n",
    "        country = country.append(temp, ignore_index = True)\n",
    "        output = output.append(country)\n",
    "    return output"
   ]
  },
  {
   "cell_type": "code",
   "execution_count": 176,
   "metadata": {},
   "outputs": [],
   "source": [
    "region_year_aid = geoaid_df[['year', 'NAME_1', 'usdco']].groupby(['NAME_1', 'year']).sum()\n",
    "region_year_aid = add_lag(region_year_aid, 'usdco', 'lagged_commitments')\n",
    "\n",
    "region_year_aid['commitments_difference'] = region_year_aid['usdco'] - region_year_aid['lagged_commitments']\n",
    "region_year_aid['log_commitments'] = np.log(region_year_aid['usdco'] )\n",
    "region_year_aid['log_lagged_commitments'] = np.log(region_year_aid['lagged_commitments'] )\n",
    "region_year_aid['log_difference'] = np.log(region_year_aid['commitments_difference'] )\n",
    "region_year_aid['difference_of_logs'] = region_year_aid['log_commitments'] - region_year_aid['log_lagged_commitments']\n",
    "\n",
    "region_year_casualties = gconflict[['year', 'NAME_1', 'best_est']].groupby(['NAME_1', 'year']).sum()\n",
    "region_year_casualties = add_lag(region_year_casualties, 'best_est', 'lagged_casualties')\n",
    "\n",
    "region_year_casualties['casulaties_difference'] = region_year_casualties['best_est'] - region_year_casualties['lagged_casualties']\n",
    "region_year_casualties['casulaties_log'] = np.log(region_year_casualties['best_est'])\n",
    "#region_year_casualties['casulaties_log'] = np.log(region_year_casualties['best_est'])\n",
    "region_year_casualties['casulaties_standardized'] = (region_year_casualties['best_est'] - np.mean(region_year_casualties['best_est'])) / np.var(region_year_casualties['best_est'])\n",
    "region_year_casualties['lagged_casualties_standardized'] = (region_year_casualties['lagged_casualties'] - np.mean(region_year_casualties['lagged_casualties'])) / np.var(region_year_casualties['lagged_casualties'])"
   ]
  },
  {
   "cell_type": "code",
   "execution_count": 177,
   "metadata": {
    "collapsed": true
   },
   "outputs": [],
   "source": [
    "aid_and_conflict = pd.merge(region_year_aid, region_year_casualties, on = ['NAME_1', 'year'])"
   ]
  },
  {
   "cell_type": "code",
   "execution_count": 178,
   "metadata": {},
   "outputs": [
    {
     "data": {
      "text/html": [
       "<table class=\"simpletable\">\n",
       "<caption>OLS Regression Results</caption>\n",
       "<tr>\n",
       "  <th>Dep. Variable:</th>    <td>casulaties_standardized</td> <th>  R-squared:         </th> <td>   0.000</td>\n",
       "</tr>\n",
       "<tr>\n",
       "  <th>Model:</th>                      <td>OLS</td>           <th>  Adj. R-squared:    </th> <td>  -0.002</td>\n",
       "</tr>\n",
       "<tr>\n",
       "  <th>Method:</th>                <td>Least Squares</td>      <th>  F-statistic:       </th> <td> 0.06544</td>\n",
       "</tr>\n",
       "<tr>\n",
       "  <th>Date:</th>                <td>Fri, 03 Aug 2018</td>     <th>  Prob (F-statistic):</th>  <td> 0.798</td> \n",
       "</tr>\n",
       "<tr>\n",
       "  <th>Time:</th>                    <td>00:22:26</td>         <th>  Log-Likelihood:    </th> <td>  3471.1</td>\n",
       "</tr>\n",
       "<tr>\n",
       "  <th>No. Observations:</th>         <td>   550</td>          <th>  AIC:               </th> <td>  -6938.</td>\n",
       "</tr>\n",
       "<tr>\n",
       "  <th>Df Residuals:</th>             <td>   548</td>          <th>  BIC:               </th> <td>  -6930.</td>\n",
       "</tr>\n",
       "<tr>\n",
       "  <th>Df Model:</th>                 <td>     1</td>          <th>                     </th>     <td> </td>   \n",
       "</tr>\n",
       "<tr>\n",
       "  <th>Covariance Type:</th>         <td>nonrobust</td>        <th>                     </th>     <td> </td>   \n",
       "</tr>\n",
       "</table>\n",
       "<table class=\"simpletable\">\n",
       "<tr>\n",
       "             <td></td>               <th>coef</th>     <th>std err</th>      <th>t</th>      <th>P>|t|</th>  <th>[0.025</th>    <th>0.975]</th>  \n",
       "</tr>\n",
       "<tr>\n",
       "  <th>Intercept</th>              <td>-9.082e-06</td> <td>    0.000</td> <td>   -0.077</td> <td> 0.939</td> <td>   -0.000</td> <td>    0.000</td>\n",
       "</tr>\n",
       "<tr>\n",
       "  <th>log_lagged_commitments</th> <td> -2.08e-06</td> <td> 8.13e-06</td> <td>   -0.256</td> <td> 0.798</td> <td>-1.81e-05</td> <td> 1.39e-05</td>\n",
       "</tr>\n",
       "</table>\n",
       "<table class=\"simpletable\">\n",
       "<tr>\n",
       "  <th>Omnibus:</th>       <td>653.972</td> <th>  Durbin-Watson:     </th> <td>   1.338</td> \n",
       "</tr>\n",
       "<tr>\n",
       "  <th>Prob(Omnibus):</th> <td> 0.000</td>  <th>  Jarque-Bera (JB):  </th> <td>47380.740</td>\n",
       "</tr>\n",
       "<tr>\n",
       "  <th>Skew:</th>          <td> 5.793</td>  <th>  Prob(JB):          </th> <td>    0.00</td> \n",
       "</tr>\n",
       "<tr>\n",
       "  <th>Kurtosis:</th>      <td>46.969</td>  <th>  Cond. No.          </th> <td>    92.6</td> \n",
       "</tr>\n",
       "</table>"
      ],
      "text/plain": [
       "<class 'statsmodels.iolib.summary.Summary'>\n",
       "\"\"\"\n",
       "                               OLS Regression Results                              \n",
       "===================================================================================\n",
       "Dep. Variable:     casulaties_standardized   R-squared:                       0.000\n",
       "Model:                                 OLS   Adj. R-squared:                 -0.002\n",
       "Method:                      Least Squares   F-statistic:                   0.06544\n",
       "Date:                     Fri, 03 Aug 2018   Prob (F-statistic):              0.798\n",
       "Time:                             00:22:26   Log-Likelihood:                 3471.1\n",
       "No. Observations:                      550   AIC:                            -6938.\n",
       "Df Residuals:                          548   BIC:                            -6930.\n",
       "Df Model:                                1                                         \n",
       "Covariance Type:                 nonrobust                                         \n",
       "==========================================================================================\n",
       "                             coef    std err          t      P>|t|      [0.025      0.975]\n",
       "------------------------------------------------------------------------------------------\n",
       "Intercept              -9.082e-06      0.000     -0.077      0.939      -0.000       0.000\n",
       "log_lagged_commitments  -2.08e-06   8.13e-06     -0.256      0.798   -1.81e-05    1.39e-05\n",
       "==============================================================================\n",
       "Omnibus:                      653.972   Durbin-Watson:                   1.338\n",
       "Prob(Omnibus):                  0.000   Jarque-Bera (JB):            47380.740\n",
       "Skew:                           5.793   Prob(JB):                         0.00\n",
       "Kurtosis:                      46.969   Cond. No.                         92.6\n",
       "==============================================================================\n",
       "\n",
       "Warnings:\n",
       "[1] Standard Errors assume that the covariance matrix of the errors is correctly specified.\n",
       "\"\"\""
      ]
     },
     "execution_count": 178,
     "metadata": {},
     "output_type": "execute_result"
    }
   ],
   "source": [
    "result = sm.ols(formula = 'casulaties_standardized ~ log_lagged_commitments', data = aid_and_conflict).fit()\n",
    "result.summary()"
   ]
  },
  {
   "cell_type": "code",
   "execution_count": null,
   "metadata": {
    "collapsed": true
   },
   "outputs": [],
   "source": []
  },
  {
   "cell_type": "code",
   "execution_count": 172,
   "metadata": {},
   "outputs": [
    {
     "name": "stdout",
     "output_type": "stream",
     "text": [
      "CURRENT GROUP  HR_LA\n",
      "                            OLS Regression Results                            \n",
      "==============================================================================\n",
      "Dep. Variable:               best_est   R-squared:                       0.000\n",
      "Model:                            OLS   Adj. R-squared:                 -0.005\n",
      "Method:                 Least Squares   F-statistic:                   0.01467\n",
      "Date:                Fri, 03 Aug 2018   Prob (F-statistic):              0.904\n",
      "Time:                        00:20:23   Log-Likelihood:                -1375.5\n",
      "No. Observations:                 191   AIC:                             2755.\n",
      "Df Residuals:                     189   BIC:                             2761.\n",
      "Df Model:                           1                                         \n",
      "Covariance Type:            nonrobust                                         \n",
      "==========================================================================================\n",
      "                             coef    std err          t      P>|t|      [0.025      0.975]\n",
      "------------------------------------------------------------------------------------------\n",
      "Intercept                115.2438    140.305      0.821      0.412    -161.521     392.008\n",
      "log_lagged_commitments     1.2078      9.972      0.121      0.904     -18.463      20.879\n",
      "==============================================================================\n",
      "Omnibus:                      229.472   Durbin-Watson:                   1.665\n",
      "Prob(Omnibus):                  0.000   Jarque-Bera (JB):             7616.069\n",
      "Skew:                           5.036   Prob(JB):                         0.00\n",
      "Kurtosis:                      32.250   Cond. No.                         84.0\n",
      "==============================================================================\n",
      "\n",
      "Warnings:\n",
      "[1] Standard Errors assume that the covariance matrix of the errors is correctly specified.\n",
      "CURRENT GROUP  LR_HA\n",
      "                            OLS Regression Results                            \n",
      "==============================================================================\n",
      "Dep. Variable:               best_est   R-squared:                       0.003\n",
      "Model:                            OLS   Adj. R-squared:                 -0.018\n",
      "Method:                 Least Squares   F-statistic:                    0.1474\n",
      "Date:                Fri, 03 Aug 2018   Prob (F-statistic):              0.703\n",
      "Time:                        00:20:23   Log-Likelihood:                -374.51\n",
      "No. Observations:                  50   AIC:                             753.0\n",
      "Df Residuals:                      48   BIC:                             756.8\n",
      "Df Model:                           1                                         \n",
      "Covariance Type:            nonrobust                                         \n",
      "==========================================================================================\n",
      "                             coef    std err          t      P>|t|      [0.025      0.975]\n",
      "------------------------------------------------------------------------------------------\n",
      "Intercept                 54.7994    551.912      0.099      0.921   -1054.894    1164.493\n",
      "log_lagged_commitments    14.0266     36.540      0.384      0.703     -59.441      87.494\n",
      "==============================================================================\n",
      "Omnibus:                       73.445   Durbin-Watson:                   1.435\n",
      "Prob(Omnibus):                  0.000   Jarque-Bera (JB):              793.846\n",
      "Skew:                           3.915   Prob(JB):                    4.15e-173\n",
      "Kurtosis:                      20.881   Cond. No.                         134.\n",
      "==============================================================================\n",
      "\n",
      "Warnings:\n",
      "[1] Standard Errors assume that the covariance matrix of the errors is correctly specified.\n",
      "CURRENT GROUP  LR_LA\n",
      "                            OLS Regression Results                            \n",
      "==============================================================================\n",
      "Dep. Variable:               best_est   R-squared:                       0.033\n",
      "Model:                            OLS   Adj. R-squared:                  0.000\n",
      "Method:                 Least Squares   F-statistic:                     1.011\n",
      "Date:                Fri, 03 Aug 2018   Prob (F-statistic):              0.323\n",
      "Time:                        00:20:23   Log-Likelihood:                -243.50\n",
      "No. Observations:                  32   AIC:                             491.0\n",
      "Df Residuals:                      30   BIC:                             493.9\n",
      "Df Model:                           1                                         \n",
      "Covariance Type:            nonrobust                                         \n",
      "==========================================================================================\n",
      "                             coef    std err          t      P>|t|      [0.025      0.975]\n",
      "------------------------------------------------------------------------------------------\n",
      "Intercept               -310.2161    622.412     -0.498      0.622   -1581.351     960.919\n",
      "log_lagged_commitments    44.2282     43.983      1.006      0.323     -45.597     134.053\n",
      "==============================================================================\n",
      "Omnibus:                       51.975   Durbin-Watson:                   1.718\n",
      "Prob(Omnibus):                  0.000   Jarque-Bera (JB):              303.473\n",
      "Skew:                           3.423   Prob(JB):                     1.26e-66\n",
      "Kurtosis:                      16.443   Cond. No.                         99.3\n",
      "==============================================================================\n",
      "\n",
      "Warnings:\n",
      "[1] Standard Errors assume that the covariance matrix of the errors is correctly specified.\n",
      "CURRENT GROUP  HR_HA\n",
      "                            OLS Regression Results                            \n",
      "==============================================================================\n",
      "Dep. Variable:               best_est   R-squared:                       0.001\n",
      "Model:                            OLS   Adj. R-squared:                 -0.001\n",
      "Method:                 Least Squares   F-statistic:                    0.3620\n",
      "Date:                Fri, 03 Aug 2018   Prob (F-statistic):              0.548\n",
      "Time:                        00:20:23   Log-Likelihood:                -3602.8\n",
      "No. Observations:                 472   AIC:                             7210.\n",
      "Df Residuals:                     470   BIC:                             7218.\n",
      "Df Model:                           1                                         \n",
      "Covariance Type:            nonrobust                                         \n",
      "==========================================================================================\n",
      "                             coef    std err          t      P>|t|      [0.025      0.975]\n",
      "------------------------------------------------------------------------------------------\n",
      "Intercept                268.2869    145.120      1.849      0.065     -16.878     553.452\n",
      "log_lagged_commitments    -6.1081     10.151     -0.602      0.548     -26.056      13.839\n",
      "==============================================================================\n",
      "Omnibus:                      587.166   Durbin-Watson:                   1.329\n",
      "Prob(Omnibus):                  0.000   Jarque-Bera (JB):            47907.043\n",
      "Skew:                           6.091   Prob(JB):                         0.00\n",
      "Kurtosis:                      50.828   Cond. No.                         90.4\n",
      "==============================================================================\n",
      "\n",
      "Warnings:\n",
      "[1] Standard Errors assume that the covariance matrix of the errors is correctly specified.\n"
     ]
    }
   ],
   "source": [
    "four_groups = {'HR_LA': high_receptivity_low_adaptability,\n",
    "               'LR_HA': low_receptivity_high_adaptability,\n",
    "               'LR_LA': low_receptivity_low_adaptability,\n",
    "               'HR_HA': high_receptivity_high_adaptability}\n",
    "\n",
    "\n",
    "def estimate_relationship(aid_group):\n",
    "    region_year_aid = aid_group[['year', 'NAME_1', 'usdco']].groupby(['NAME_1', 'year']).sum()\n",
    "\n",
    "    region_year_aid = add_lag(region_year_aid, 'usdco', 'lagged_commitments')\n",
    "\n",
    "    region_year_aid['commitments_difference'] = region_year_aid['usdco'] - region_year_aid['lagged_commitments']\n",
    "    region_year_aid['log_commitments'] = np.log(region_year_aid['usdco'] )\n",
    "    region_year_aid['log_lagged_commitments'] = np.log(region_year_aid['lagged_commitments'] )\n",
    "    region_year_aid['log_difference'] = np.log(region_year_aid['commitments_difference'] )\n",
    "    region_year_aid['difference_of_logs'] = region_year_aid['log_commitments'] - region_year_aid['log_lagged_commitments']\n",
    "\n",
    "    aid_and_conflict = pd.merge(region_year_aid, region_year_casualties, on = ['NAME_1', 'year'])\n",
    "\n",
    "    result = sm.ols(formula = 'best_est ~ log_lagged_commitments', data = aid_and_conflict).fit()\n",
    "    print(result.summary())\n",
    "    \n",
    "\n",
    "\n",
    "\n",
    "for key, value in four_groups.items():\n",
    "    print('CURRENT GROUP ', key)\n",
    "    estimate_relationship(value)"
   ]
  },
  {
   "cell_type": "code",
   "execution_count": null,
   "metadata": {
    "collapsed": true
   },
   "outputs": [],
   "source": []
  }
 ],
 "metadata": {
  "kernelspec": {
   "display_name": "Python 3",
   "language": "python",
   "name": "python3"
  },
  "language_info": {
   "codemirror_mode": {
    "name": "ipython",
    "version": 3
   },
   "file_extension": ".py",
   "mimetype": "text/x-python",
   "name": "python",
   "nbconvert_exporter": "python",
   "pygments_lexer": "ipython3",
   "version": "3.6.3"
  }
 },
 "nbformat": 4,
 "nbformat_minor": 2
}

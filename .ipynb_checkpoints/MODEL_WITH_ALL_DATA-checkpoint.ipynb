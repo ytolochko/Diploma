{
 "cells": [
  {
   "cell_type": "code",
   "execution_count": 1,
   "metadata": {},
   "outputs": [
    {
     "name": "stderr",
     "output_type": "stream",
     "text": [
      "WARNING (theano.configdefaults): g++ not available, if using conda: `conda install m2w64-toolchain`\n",
      "C:\\Users\\Yurii\\Anaconda3\\lib\\site-packages\\theano\\configdefaults.py:560: UserWarning: DeprecationWarning: there is no c++ compiler.This is deprecated and with Theano 0.11 a c++ compiler will be mandatory\n",
      "  warnings.warn(\"DeprecationWarning: there is no c++ compiler.\"\n",
      "WARNING (theano.configdefaults): g++ not detected ! Theano will be unable to execute optimized C-implementations (for both CPU and GPU) and will default to Python implementations. Performance will be severely degraded. To remove this warning, set Theano flags cxx to an empty string.\n",
      "WARNING (theano.tensor.blas): Using NumPy C-API based implementation for BLAS functions.\n",
      "C:\\Users\\Yurii\\Anaconda3\\lib\\site-packages\\h5py\\__init__.py:36: FutureWarning: Conversion of the second argument of issubdtype from `float` to `np.floating` is deprecated. In future, it will be treated as `np.float64 == np.dtype(float).type`.\n",
      "  from ._conv import register_converters as _register_converters\n"
     ]
    }
   ],
   "source": [
    "import numpy as np\n",
    "import geopandas as gpd\n",
    "from shapely.geometry import Point\n",
    "import pandas as pd\n",
    "import re as re\n",
    "import os\n",
    "import copy\n",
    "import statsmodels.formula.api as sm\n",
    "import pymc3 as pm\n",
    "import matplotlib.pyplot as plt\n",
    "from tqdm import tqdm"
   ]
  },
  {
   "cell_type": "code",
   "execution_count": 2,
   "metadata": {},
   "outputs": [
    {
     "name": "stdout",
     "output_type": "stream",
     "text": [
      "Warning: CRS does not match!\n",
      "Warning: CRS does not match!\n"
     ]
    }
   ],
   "source": [
    "drc = pd.read_excel('Data\\\\south_of_sahara\\\\DRC_Conflict_27June2012.xlsx', header = 0, index_col = 1)\n",
    "uganda = pd.read_excel('Data\\\\south_of_sahara\\\\Uganda_Conflict_27June2012.xlsx', header = 0, index_col = 1)\n",
    "ethiopia = pd.read_excel('Data\\\\south_of_sahara\\\\Ethiopia_Conflict_27June2012.xlsx', header = 0, index_col = 1)\n",
    "sudan = pd.read_excel('Data\\\\south_of_sahara\\\\Sudan_Conflict_27June2012.xlsx', header = 0, index_col = 1)\n",
    "burundi = pd.read_excel('Data\\\\south_of_sahara\\\\Burundi_Conflict_20June2012.xlsx', header = 0, index_col = 1)\n",
    "\n",
    "ethiopia.drop(ethiopia[ethiopia['precision'] == '.'].index, inplace = True)\n",
    "burundi.drop(burundi[burundi['precision'] == '        .'].index, inplace = True)\n",
    "\n",
    "all_provinces = gpd.read_file('Data\\\\Shapefiles\\\\ADM1\\\\compiled.shp')\n",
    "\n",
    "drc = drc[drc['precision'] <=6]\n",
    "uganda = uganda[uganda['precision'] <=6]\n",
    "ethiopia = ethiopia[ethiopia['precision'] <=6]\n",
    "sudan = sudan[sudan['precision'] <=6]\n",
    "burundi = burundi[burundi['precision'] <=6]\n",
    "\n",
    "worker_deaths = pd.read_csv('Data\\\\security_incidents2018-08-02.csv', encoding = \"ISO-8859-1\")\n",
    "conflict = pd.read_csv('Data\\\\conflict_data\\\\gedevents-2018-07-13.csv', header = 0, index_col = 0)\n",
    "\n",
    "geometry = [Point(xy) for xy in zip(conflict.longitude, conflict.latitude)]\n",
    "gconflict = gpd.GeoDataFrame(conflict, crs = {'init': 'epsg:4326'}, geometry = geometry)\n",
    "\n",
    "geometry = [Point(xy) for xy in zip(worker_deaths.Longitude, worker_deaths.Latitude)]\n",
    "g_w_d = gpd.GeoDataFrame(worker_deaths, crs = {'init': 'epsg:4326'}, geometry = geometry)\n",
    "\n",
    "gconflict = gpd.sjoin(gconflict, all_provinces, how=\"inner\")\n",
    "g_w_d = gpd.sjoin(g_w_d, all_provinces, how=\"inner\")"
   ]
  },
  {
   "cell_type": "code",
   "execution_count": 3,
   "metadata": {
    "collapsed": true
   },
   "outputs": [],
   "source": [
    "def recode_commitments(df):\n",
    "    \"\"\"\n",
    "        Commitments are coded for for all locations within a project. \n",
    "        To arrive at an average per location divide the value over numbloc\n",
    "    \"\"\"\n",
    "    df['usdcr'] = df['usdcr'] / df['numbloc']\n",
    "    df['usdco'] = df['usdco'] / df['numbloc']\n",
    "    return df\n",
    "\n",
    "def geocode(df):\n",
    "    geometry = [Point(xy) for xy in zip(df.long, df.lat)]\n",
    "    gdf = gpd.GeoDataFrame(df, crs = {'init': 'epsg:4326'}, geometry = geometry)\n",
    "    gaid = gpd.sjoin(gdf, all_provinces, how=\"inner\")\n",
    "    return gaid"
   ]
  },
  {
   "cell_type": "code",
   "execution_count": 4,
   "metadata": {
    "scrolled": false
   },
   "outputs": [
    {
     "name": "stdout",
     "output_type": "stream",
     "text": [
      "Warning: CRS does not match!\n",
      "Warning: CRS does not match!\n",
      "Warning: CRS does not match!\n",
      "Warning: CRS does not match!\n",
      "Warning: CRS does not match!\n"
     ]
    }
   ],
   "source": [
    "countries = [drc, uganda, ethiopia, sudan, burundi]\n",
    "geoaid = [geocode(country) for country in countries]\n",
    "geoaid = list(map(recode_commitments, geoaid))\n",
    "\n",
    "geoaid_df = pd.DataFrame()\n",
    "for country in geoaid:\n",
    "    geoaid_df = geoaid_df.append(country)"
   ]
  },
  {
   "cell_type": "code",
   "execution_count": 5,
   "metadata": {
    "collapsed": true
   },
   "outputs": [],
   "source": [
    "geoaid_df.loc[:, 'dname'] = geoaid_df['dname'].apply(lambda x: x.replace(\" \", \"\"))\n",
    "geoaid_df.loc[geoaid_df['dname'] == 'BELGIU', 'dname'] = 'BELGIUM'\n",
    "geoaid_df.loc[geoaid_df['dname'] == 'FINLAN', 'dname'] = 'FINLAND'\n",
    "geoaid_df.loc[geoaid_df['dname'] == 'IRELAN', 'dname'] = 'IRELAND'\n",
    "geoaid_df.loc[geoaid_df['dname'] == 'PORTUG', 'dname'] = 'PORTUGAL'\n",
    "geoaid_df.loc[geoaid_df['dname'] == 'GERMAN', 'dname'] = 'GERMANY'\n",
    "geoaid_df.loc[geoaid_df['dname'] == 'AUSTRI', 'dname'] = 'AUSTRIA'\n",
    "geoaid_df.loc[geoaid_df['dname'] == 'DENMAR', 'dname'] = 'DENMARK'\n",
    "geoaid_df.loc[geoaid_df['dname'] == 'SWITZE', 'dname'] = 'SWITZERLAND'\n",
    "geoaid_df.loc[geoaid_df['dname'] == 'LUXEMB', 'dname'] = 'LUXEMBOURG'\n",
    "geoaid_df.loc[geoaid_df['dname'] == 'AUSTRA', 'dname'] = 'AUSTRALIA'\n",
    "geoaid_df.loc[geoaid_df['dname'] == 'NETHER', 'dname'] = 'NETHERLANDS'"
   ]
  },
  {
   "cell_type": "code",
   "execution_count": 6,
   "metadata": {
    "collapsed": true
   },
   "outputs": [],
   "source": [
    "geoaid_df['crspcode'] =  geoaid_df['crspcode'].astype(str)\n",
    "geoaid_df = geoaid_df.dropna(subset = ['usdco', 'crspcode'])\n",
    "geoaid_df = geoaid_df[~geoaid_df.index.duplicated(keep='first')]\n",
    "\n",
    "geoaid_df['fungible'] = 0\n",
    "geoaid_df['nonfungible'] = 0"
   ]
  },
  {
   "cell_type": "code",
   "execution_count": 7,
   "metadata": {
    "collapsed": true,
    "scrolled": true
   },
   "outputs": [],
   "source": [
    "for i in geoaid_df.index:\n",
    "    try:\n",
    "        if geoaid_df.loc[i, 'crspcode'][:3] in ['311', '110', '230', '510']:\n",
    "            geoaid_df.at[i, 'fungible'] = geoaid_df.loc[i, 'usdco']\n",
    "        else:\n",
    "            geoaid_df.at[i, 'nonfungible'] = geoaid_df.loc[i, 'usdco']\n",
    "    except:\n",
    "        print(i)"
   ]
  },
  {
   "cell_type": "code",
   "execution_count": 8,
   "metadata": {
    "collapsed": true
   },
   "outputs": [],
   "source": [
    "# Func calculates the coefficient of unalikeability (as defined by Kader 2007) of every sublcass of first_group variable by topic_name\n",
    "# E.g. unalikeability of project location for each aid donor -> calc_unalikeability(gaid, 'donors', 'ad_sector_names')\n",
    "\n",
    "def calc_unalikeability(data, first_group, topic_name):\n",
    "    \n",
    "    # prepare data: group by first_group and topic_name, and divide by the size of the respective group\n",
    "    # thus we obtain the share that each topic_name has in the respective first_group\n",
    "    \n",
    "    d = (data.groupby([first_group, topic_name]).size() / data.groupby([first_group]).size())\n",
    "    \n",
    "    # here we get the keys for the first level grouping. So, the unique values of first group column\n",
    "    keys = []\n",
    "    for i in d.index:\n",
    "        keys.append(i[0])\n",
    "    keys = set(keys)\n",
    "    \n",
    "    # here we calculate the actual coefficient\n",
    "    # for every value of first_group we calculate its coefficient:\n",
    "    # coefficient is defined as 1 - SUM_i(p_i^2), where p_i is the share of the ith subgroup in the total group. \n",
    "    \n",
    "    coefs = {}\n",
    "    for key in keys:\n",
    "        s = 0\n",
    "        for subgroup in d[key]:\n",
    "            s += subgroup ** 2\n",
    "        coef = 1 - s\n",
    "        coefs[key] = coef\n",
    "    return pd.Series(coefs)\n",
    "\n",
    "\n",
    "# calculates the variablity of topic_name (e.g. total commitments of money) for every member of first_group\n",
    "def calc_var(data, first_group, topic_name):\n",
    "    d = data.groupby(first_group)\n",
    "    \n",
    "    def var(d):\n",
    "        d = d[topic_name]\n",
    "        d = (d - min(d)) / (max(d) - min(d))\n",
    "        \n",
    "        if np.isnan(np.var(d)):\n",
    "            return 0\n",
    "        \n",
    "        return np.var(d)\n",
    "    \n",
    "    return d.apply(var)"
   ]
  },
  {
   "cell_type": "code",
   "execution_count": 9,
   "metadata": {
    "collapsed": true
   },
   "outputs": [],
   "source": [
    "adaptability_by_focus = calc_unalikeability(geoaid_df, 'dname', 'crspcode')\n",
    "adaptability_by_location =calc_unalikeability(geoaid_df, 'dname', 'NAME_1')\n",
    "adaptability_by_start_year = calc_unalikeability(geoaid_df, 'dname', 'year')\n",
    "adaptability_by_commitment = calc_var(geoaid_df, 'dname', 'usdco')\n",
    "composite_adaptability = adaptability_by_commitment + adaptability_by_start_year + adaptability_by_location + adaptability_by_focus\n",
    "median = composite_adaptability.median()\n",
    "high_adaptability = composite_adaptability[composite_adaptability >= median]\n",
    "low_adaptability = composite_adaptability[composite_adaptability < median]"
   ]
  },
  {
   "cell_type": "code",
   "execution_count": 10,
   "metadata": {
    "collapsed": true
   },
   "outputs": [],
   "source": [
    "# Compute the year, ADM1 pairs of events when aid workers were killed. \n",
    "# Then, we can assume that these are unreceptive year, region pairs.\n",
    "# However, we can also divide this into 2 subgroups: more than average (or median) casualties vs less than average (or median) casualties\n",
    "worker_deaths_grouped = g_w_d.groupby(['Year', 'NAME_1'])['Total affected'].sum()\n",
    "worker_deaths_grouped.to_csv('measures_indices\\\\year_location_pairs.csv')\n",
    "\n",
    "# The idea is that low_receptivity is depcited by a lot of worker deaths\n",
    "# high receptivity is depicted by a no worker deaths\n"
   ]
  },
  {
   "cell_type": "code",
   "execution_count": 11,
   "metadata": {
    "scrolled": true
   },
   "outputs": [
    {
     "name": "stderr",
     "output_type": "stream",
     "text": [
      "10799it [02:31, 71.39it/s]\n"
     ]
    }
   ],
   "source": [
    "# custom function to check whether a tuple is included in an array of tuples (for some reason, basic function did not work)\n",
    "def check_in (tupl, array):\n",
    "    for element in array:\n",
    "        if (tupl[0] == element[0]) & (tupl[1] == element[1]):\n",
    "            return True\n",
    "\n",
    "# select those row numbers (indices) of gaid dataframe that represent projects that started in the same year/adm1 combination\n",
    "# as highly receptive ones\n",
    "low_receptive_indices = []\n",
    "\n",
    "low_receptive = pd.DataFrame()\n",
    "highly_receptive = pd.DataFrame()\n",
    "\n",
    "\n",
    "for index, row in tqdm(geoaid_df.iterrows()):\n",
    "    tupl = (int(row['year']), row['NAME_1'])\n",
    "    if check_in(tupl, worker_deaths_grouped.index.values):\n",
    "        low_receptive_indices.append(index)\n",
    "        low_receptive = low_receptive.append(row)\n",
    "    else:\n",
    "        highly_receptive = highly_receptive.append(row)"
   ]
  },
  {
   "cell_type": "code",
   "execution_count": 12,
   "metadata": {
    "collapsed": true
   },
   "outputs": [],
   "source": [
    "# High receptivity + high adaptability indices\n",
    "high_receptivity_high_adaptability = highly_receptive[highly_receptive['dname'].isin(high_adaptability.index)]\n",
    "high_receptivity_low_adaptability = highly_receptive[highly_receptive['dname'].isin(low_adaptability.index)]\n",
    "\n",
    "low_receptivity_high_adaptability = low_receptive[low_receptive['dname'].isin(high_adaptability.index)]\n",
    "low_receptivity_low_adaptability = low_receptive[low_receptive['dname'].isin(low_adaptability.index)]"
   ]
  },
  {
   "cell_type": "code",
   "execution_count": 13,
   "metadata": {
    "collapsed": true
   },
   "outputs": [],
   "source": [
    "def add_lag(df, column_name, new_name):\n",
    "    output = pd.DataFrame()\n",
    "    df[new_name] = df.groupby(level = 0)[column_name].shift(1)\n",
    "    by_country = df.groupby(level = 0)\n",
    "    for name, group in by_country:\n",
    "        country = group.reset_index()\n",
    "        last_row = country.iloc[-1, :]\n",
    "        temp = copy.deepcopy(last_row)\n",
    "        temp['year'] += 1\n",
    "        temp[new_name] = temp[column_name]\n",
    "        temp[column_name] = np.nan\n",
    "\n",
    "        country = country.append(temp, ignore_index = True)\n",
    "        output = output.append(country)\n",
    "    return output"
   ]
  },
  {
   "cell_type": "code",
   "execution_count": 14,
   "metadata": {
    "collapsed": true,
    "scrolled": true
   },
   "outputs": [],
   "source": [
    "region_year_aid = geoaid_df[['year', 'NAME_1', 'usdco', 'fungible', 'nonfungible']].groupby(['NAME_1', 'year']).sum()\n",
    "\n",
    "region_year_aid_copy = copy.deepcopy(region_year_aid)\n",
    "\n",
    "region_year_aid_1 = add_lag(region_year_aid_copy, 'usdco', 'lagged_commitments')\n",
    "\n",
    "region_year_aid_2 = add_lag(region_year_aid_copy, 'fungible', 'lagged_fungible')\n",
    "region_year_aid_2 = region_year_aid_2[['NAME_1', 'year', 'lagged_fungible']]\n",
    "\n",
    "region_year_aid_3 = add_lag(region_year_aid_copy, 'nonfungible', 'lagged_nonfungible')\n",
    "region_year_aid_3 = region_year_aid_3[['NAME_1', 'year', 'lagged_nonfungible']]\n",
    "\n",
    "region_year_aid = region_year_aid_1.merge(region_year_aid_2, on = ['NAME_1', 'year']).merge(region_year_aid_3, on = ['NAME_1', 'year'])\n",
    "\n",
    "region_year_aid['commitments_difference'] = region_year_aid['usdco'] - region_year_aid['lagged_commitments']\n",
    "region_year_aid['log_commitments'] = np.log(region_year_aid['usdco'] )\n",
    "region_year_aid['log_lagged_commitments'] = np.log(region_year_aid['lagged_commitments'] )\n",
    "\n",
    "region_year_aid['log_fungible'] = np.log(region_year_aid['fungible'] )\n",
    "region_year_aid['log_lagged_fungible'] = np.log(region_year_aid['lagged_fungible'] )\n",
    "\n",
    "region_year_aid['log_nonfungible'] = np.log(region_year_aid['nonfungible'] )\n",
    "region_year_aid['log_lagged_nonfungible'] = np.log(region_year_aid['lagged_nonfungible'] )\n",
    "\n",
    "\n",
    "region_year_aid['log_difference'] = np.log(region_year_aid['commitments_difference'] )\n",
    "region_year_aid['difference_of_logs'] = region_year_aid['log_commitments'] - region_year_aid['log_lagged_commitments']\n",
    "\n",
    "\n",
    "\n",
    "region_year_casualties = gconflict[['year', 'NAME_1', 'best_est']].groupby(['NAME_1', 'year']).sum()\n",
    "region_year_casualties = add_lag(region_year_casualties, 'best_est', 'lagged_casualties')\n",
    "\n",
    "region_year_casualties['casulaties_difference'] = region_year_casualties['best_est'] - region_year_casualties['lagged_casualties']\n",
    "region_year_casualties['casulaties_log'] = np.log(region_year_casualties['best_est'])\n",
    "#region_year_casualties['casulaties_log'] = np.log(region_year_casualties['best_est'])\n",
    "region_year_casualties['casulaties_standardized'] = (region_year_casualties['best_est'] - np.mean(region_year_casualties['best_est'])) / np.var(region_year_casualties['best_est'])\n",
    "region_year_casualties['lagged_casualties_standardized'] = (region_year_casualties['lagged_casualties'] - np.mean(region_year_casualties['lagged_casualties'])) / np.var(region_year_casualties['lagged_casualties'])"
   ]
  },
  {
   "cell_type": "code",
   "execution_count": 15,
   "metadata": {
    "collapsed": true
   },
   "outputs": [],
   "source": [
    "aid_and_conflict = region_year_aid.merge(region_year_casualties,on = ['NAME_1', 'year'])"
   ]
  },
  {
   "cell_type": "code",
   "execution_count": 16,
   "metadata": {
    "collapsed": true
   },
   "outputs": [],
   "source": [
    "covariates = pd.read_csv('Data\\\\covariates.csv', encoding = 'latin-1')"
   ]
  },
  {
   "cell_type": "code",
   "execution_count": 25,
   "metadata": {
    "collapsed": true,
    "scrolled": true
   },
   "outputs": [],
   "source": [
    "aid_and_conflict['total_pop'] = np.nan\n",
    "aid_and_conflict['density_pop'] = np.nan\n",
    "aid_and_conflict['nightlight'] = np.nan\n",
    "aid_and_conflict['accessibility'] = np.nan\n",
    "aid_and_conflict['diamond_distance'] = np.nan\n",
    "aid_and_conflict['onshore_petroleum'] = np.nan\n",
    "\n",
    "for index, row in aid_and_conflict.iterrows():\n",
    "    year = row['year']\n",
    "    name = row['NAME_1']\n",
    "\n",
    "    try:\n",
    "        aid_and_conflict.loc[index, 'total_pop'] = covariates[covariates['NAME_1'] == name]['gpw_v4_count.{}.mean'.format(year)].iloc[0]\n",
    "        \n",
    "    except:\n",
    "        aid_and_conflict.loc[index, 'total_pop'] = np.nan\n",
    "\n",
    "    try:\n",
    "        aid_and_conflict.loc[index, 'density_pop'] = covariates[covariates['NAME_1'] == name]['gpw_v4_density.{}.mean'.format(year)].iloc[0]\n",
    "\n",
    "    except:\n",
    "        aid_and_conflict.loc[index, 'density_pop'] = np.nan\n",
    "\n",
    "    try:\n",
    "        aid_and_conflict.loc[index, 'nightlight'] = covariates[covariates['NAME_1'] == name]['v4composites_calibrated_201709.{}.mean'.format(year)].iloc[0]\n",
    "\n",
    "    except:\n",
    "        aid_and_conflict.loc[index, 'nightlight'] = np.nan\n",
    "        \n",
    "    try:\n",
    "        aid_and_conflict.loc[index, 'accessibility'] = covariates[covariates['NAME_1'] == name]['accessibility_map.na.mean'].iloc[0]\n",
    "\n",
    "    except:\n",
    "        aid_and_conflict.loc[index, 'accessibility'] = np.nan    \n",
    "    \n",
    "    try:\n",
    "        aid_and_conflict.loc[index, 'diamond_distance'] = covariates[covariates['NAME_1'] == name]['diamond_distance_201708.na.sum'].iloc[0]\n",
    "\n",
    "    except:\n",
    "        aid_and_conflict.loc[index, 'diamond_distance'] = np.nan     \n",
    "    \n",
    "    try:\n",
    "        aid_and_conflict.loc[index, 'onshore_petroleum'] = covariates[covariates['NAME_1'] == name]['onshore_petroleum_v12.na.sum'].iloc[0]\n",
    "\n",
    "    except:\n",
    "        aid_and_conflict.loc[index, 'onshore_petroleum'] = np.nan  "
   ]
  },
  {
   "cell_type": "code",
   "execution_count": 57,
   "metadata": {
    "scrolled": true
   },
   "outputs": [
    {
     "data": {
      "text/html": [
       "<table class=\"simpletable\">\n",
       "<caption>OLS Regression Results</caption>\n",
       "<tr>\n",
       "  <th>Dep. Variable:</th>        <td>best_est</td>     <th>  R-squared:         </th> <td>   0.036</td>\n",
       "</tr>\n",
       "<tr>\n",
       "  <th>Model:</th>                   <td>OLS</td>       <th>  Adj. R-squared:    </th> <td>  -0.022</td>\n",
       "</tr>\n",
       "<tr>\n",
       "  <th>Method:</th>             <td>Least Squares</td>  <th>  F-statistic:       </th> <td>  0.6186</td>\n",
       "</tr>\n",
       "<tr>\n",
       "  <th>Date:</th>             <td>Wed, 29 Aug 2018</td> <th>  Prob (F-statistic):</th>  <td> 0.715</td> \n",
       "</tr>\n",
       "<tr>\n",
       "  <th>Time:</th>                 <td>00:39:43</td>     <th>  Log-Likelihood:    </th> <td> -772.56</td>\n",
       "</tr>\n",
       "<tr>\n",
       "  <th>No. Observations:</th>      <td>   105</td>      <th>  AIC:               </th> <td>   1559.</td>\n",
       "</tr>\n",
       "<tr>\n",
       "  <th>Df Residuals:</th>          <td>    98</td>      <th>  BIC:               </th> <td>   1578.</td>\n",
       "</tr>\n",
       "<tr>\n",
       "  <th>Df Model:</th>              <td>     6</td>      <th>                     </th>     <td> </td>   \n",
       "</tr>\n",
       "<tr>\n",
       "  <th>Covariance Type:</th>      <td>nonrobust</td>    <th>                     </th>     <td> </td>   \n",
       "</tr>\n",
       "</table>\n",
       "<table class=\"simpletable\">\n",
       "<tr>\n",
       "          <td></td>             <th>coef</th>     <th>std err</th>      <th>t</th>      <th>P>|t|</th>  <th>[0.025</th>    <th>0.975]</th>  \n",
       "</tr>\n",
       "<tr>\n",
       "  <th>Intercept</th>         <td>  193.4633</td> <td>  103.873</td> <td>    1.863</td> <td> 0.066</td> <td>  -12.669</td> <td>  399.596</td>\n",
       "</tr>\n",
       "<tr>\n",
       "  <th>total_pop</th>         <td>   -0.0308</td> <td>    0.642</td> <td>   -0.048</td> <td> 0.962</td> <td>   -1.306</td> <td>    1.244</td>\n",
       "</tr>\n",
       "<tr>\n",
       "  <th>density_pop</th>       <td>   -0.2622</td> <td>    0.497</td> <td>   -0.527</td> <td> 0.599</td> <td>   -1.249</td> <td>    0.725</td>\n",
       "</tr>\n",
       "<tr>\n",
       "  <th>nightlight</th>        <td>   59.8927</td> <td>   52.058</td> <td>    1.151</td> <td> 0.253</td> <td>  -43.414</td> <td>  163.200</td>\n",
       "</tr>\n",
       "<tr>\n",
       "  <th>accessibility</th>     <td>    0.0819</td> <td>    0.209</td> <td>    0.392</td> <td> 0.696</td> <td>   -0.333</td> <td>    0.497</td>\n",
       "</tr>\n",
       "<tr>\n",
       "  <th>diamond_distance</th>  <td> 5.545e-10</td> <td> 6.79e-10</td> <td>    0.817</td> <td> 0.416</td> <td>-7.93e-10</td> <td>  1.9e-09</td>\n",
       "</tr>\n",
       "<tr>\n",
       "  <th>onshore_petroleum</th> <td>   -0.0442</td> <td>    0.038</td> <td>   -1.159</td> <td> 0.249</td> <td>   -0.120</td> <td>    0.031</td>\n",
       "</tr>\n",
       "</table>\n",
       "<table class=\"simpletable\">\n",
       "<tr>\n",
       "  <th>Omnibus:</th>       <td>124.522</td> <th>  Durbin-Watson:     </th> <td>   1.715</td>\n",
       "</tr>\n",
       "<tr>\n",
       "  <th>Prob(Omnibus):</th> <td> 0.000</td>  <th>  Jarque-Bera (JB):  </th> <td>2247.408</td>\n",
       "</tr>\n",
       "<tr>\n",
       "  <th>Skew:</th>          <td> 4.147</td>  <th>  Prob(JB):          </th> <td>    0.00</td>\n",
       "</tr>\n",
       "<tr>\n",
       "  <th>Kurtosis:</th>      <td>24.093</td>  <th>  Cond. No.          </th> <td>3.70e+11</td>\n",
       "</tr>\n",
       "</table>"
      ],
      "text/plain": [
       "<class 'statsmodels.iolib.summary.Summary'>\n",
       "\"\"\"\n",
       "                            OLS Regression Results                            \n",
       "==============================================================================\n",
       "Dep. Variable:               best_est   R-squared:                       0.036\n",
       "Model:                            OLS   Adj. R-squared:                 -0.022\n",
       "Method:                 Least Squares   F-statistic:                    0.6186\n",
       "Date:                Wed, 29 Aug 2018   Prob (F-statistic):              0.715\n",
       "Time:                        00:39:43   Log-Likelihood:                -772.56\n",
       "No. Observations:                 105   AIC:                             1559.\n",
       "Df Residuals:                      98   BIC:                             1578.\n",
       "Df Model:                           6                                         \n",
       "Covariance Type:            nonrobust                                         \n",
       "=====================================================================================\n",
       "                        coef    std err          t      P>|t|      [0.025      0.975]\n",
       "-------------------------------------------------------------------------------------\n",
       "Intercept           193.4633    103.873      1.863      0.066     -12.669     399.596\n",
       "total_pop            -0.0308      0.642     -0.048      0.962      -1.306       1.244\n",
       "density_pop          -0.2622      0.497     -0.527      0.599      -1.249       0.725\n",
       "nightlight           59.8927     52.058      1.151      0.253     -43.414     163.200\n",
       "accessibility         0.0819      0.209      0.392      0.696      -0.333       0.497\n",
       "diamond_distance   5.545e-10   6.79e-10      0.817      0.416   -7.93e-10     1.9e-09\n",
       "onshore_petroleum    -0.0442      0.038     -1.159      0.249      -0.120       0.031\n",
       "==============================================================================\n",
       "Omnibus:                      124.522   Durbin-Watson:                   1.715\n",
       "Prob(Omnibus):                  0.000   Jarque-Bera (JB):             2247.408\n",
       "Skew:                           4.147   Prob(JB):                         0.00\n",
       "Kurtosis:                      24.093   Cond. No.                     3.70e+11\n",
       "==============================================================================\n",
       "\n",
       "Warnings:\n",
       "[1] Standard Errors assume that the covariance matrix of the errors is correctly specified.\n",
       "[2] The condition number is large, 3.7e+11. This might indicate that there are\n",
       "strong multicollinearity or other numerical problems.\n",
       "\"\"\""
      ]
     },
     "execution_count": 57,
     "metadata": {},
     "output_type": "execute_result"
    }
   ],
   "source": [
    "result = sm.ols(formula = 'best_est ~ total_pop + density_pop + nightlight + accessibility + diamond_distance + onshore_petroleum', data = aid_and_conflict).fit()\n",
    "result.summary()"
   ]
  },
  {
   "cell_type": "code",
   "execution_count": 16,
   "metadata": {},
   "outputs": [
    {
     "name": "stdout",
     "output_type": "stream",
     "text": [
      "CURRENT GROUP  HR_LA\n",
      "                            OLS Regression Results                            \n",
      "==============================================================================\n",
      "Dep. Variable:               best_est   R-squared:                       0.036\n",
      "Model:                            OLS   Adj. R-squared:                  0.030\n",
      "Method:                 Least Squares   F-statistic:                     5.447\n",
      "Date:                Wed, 29 Aug 2018   Prob (F-statistic):             0.0210\n",
      "Time:                        16:01:27   Log-Likelihood:                -1040.7\n",
      "No. Observations:                 147   AIC:                             2085.\n",
      "Df Residuals:                     145   BIC:                             2091.\n",
      "Df Model:                           1                                         \n",
      "Covariance Type:            nonrobust                                         \n",
      "==========================================================================================\n",
      "                             coef    std err          t      P>|t|      [0.025      0.975]\n",
      "------------------------------------------------------------------------------------------\n",
      "Intercept               -244.7137    163.601     -1.496      0.137    -568.065      78.637\n",
      "log_lagged_commitments    27.3897     11.735      2.334      0.021       4.195      50.584\n",
      "==============================================================================\n",
      "Omnibus:                      151.392   Durbin-Watson:                   1.457\n",
      "Prob(Omnibus):                  0.000   Jarque-Bera (JB):             2525.006\n",
      "Skew:                           3.870   Prob(JB):                         0.00\n",
      "Kurtosis:                      21.771   Cond. No.                         96.0\n",
      "==============================================================================\n",
      "\n",
      "Warnings:\n",
      "[1] Standard Errors assume that the covariance matrix of the errors is correctly specified.\n",
      "CURRENT GROUP  LR_HA\n",
      "                            OLS Regression Results                            \n",
      "==============================================================================\n",
      "Dep. Variable:               best_est   R-squared:                       0.000\n",
      "Model:                            OLS   Adj. R-squared:                 -0.022\n",
      "Method:                 Least Squares   F-statistic:                   0.01047\n",
      "Date:                Wed, 29 Aug 2018   Prob (F-statistic):              0.919\n",
      "Time:                        16:01:27   Log-Likelihood:                -341.29\n",
      "No. Observations:                  48   AIC:                             686.6\n",
      "Df Residuals:                      46   BIC:                             690.3\n",
      "Df Model:                           1                                         \n",
      "Covariance Type:            nonrobust                                         \n",
      "==========================================================================================\n",
      "                             coef    std err          t      P>|t|      [0.025      0.975]\n",
      "------------------------------------------------------------------------------------------\n",
      "Intercept                277.3124    350.255      0.792      0.433    -427.713     982.338\n",
      "log_lagged_commitments    -2.3871     23.327     -0.102      0.919     -49.342      44.567\n",
      "==============================================================================\n",
      "Omnibus:                       36.891   Durbin-Watson:                   1.503\n",
      "Prob(Omnibus):                  0.000   Jarque-Bera (JB):               94.639\n",
      "Skew:                           2.171   Prob(JB):                     2.81e-21\n",
      "Kurtosis:                       8.335   Cond. No.                         121.\n",
      "==============================================================================\n",
      "\n",
      "Warnings:\n",
      "[1] Standard Errors assume that the covariance matrix of the errors is correctly specified.\n",
      "CURRENT GROUP  LR_LA\n",
      "                            OLS Regression Results                            \n",
      "==============================================================================\n",
      "Dep. Variable:               best_est   R-squared:                       0.007\n",
      "Model:                            OLS   Adj. R-squared:                 -0.023\n",
      "Method:                 Least Squares   F-statistic:                    0.2197\n",
      "Date:                Wed, 29 Aug 2018   Prob (F-statistic):              0.642\n",
      "Time:                        16:01:27   Log-Likelihood:                -265.72\n",
      "No. Observations:                  35   AIC:                             535.4\n",
      "Df Residuals:                      33   BIC:                             538.6\n",
      "Df Model:                           1                                         \n",
      "Covariance Type:            nonrobust                                         \n",
      "==========================================================================================\n",
      "                             coef    std err          t      P>|t|      [0.025      0.975]\n",
      "------------------------------------------------------------------------------------------\n",
      "Intercept                -14.1213    643.281     -0.022      0.983   -1322.886    1294.644\n",
      "log_lagged_commitments    21.2453     45.329      0.469      0.642     -70.977     113.468\n",
      "==============================================================================\n",
      "Omnibus:                       56.765   Durbin-Watson:                   1.522\n",
      "Prob(Omnibus):                  0.000   Jarque-Bera (JB):              384.036\n",
      "Skew:                           3.628   Prob(JB):                     4.05e-84\n",
      "Kurtosis:                      17.516   Cond. No.                         110.\n",
      "==============================================================================\n",
      "\n",
      "Warnings:\n",
      "[1] Standard Errors assume that the covariance matrix of the errors is correctly specified.\n",
      "CURRENT GROUP  HR_HA\n",
      "                            OLS Regression Results                            \n",
      "==============================================================================\n",
      "Dep. Variable:               best_est   R-squared:                       0.001\n",
      "Model:                            OLS   Adj. R-squared:                 -0.001\n",
      "Method:                 Least Squares   F-statistic:                    0.4226\n",
      "Date:                Wed, 29 Aug 2018   Prob (F-statistic):              0.516\n",
      "Time:                        16:01:28   Log-Likelihood:                -3640.3\n",
      "No. Observations:                 477   AIC:                             7285.\n",
      "Df Residuals:                     475   BIC:                             7293.\n",
      "Df Model:                           1                                         \n",
      "Covariance Type:            nonrobust                                         \n",
      "==========================================================================================\n",
      "                             coef    std err          t      P>|t|      [0.025      0.975]\n",
      "------------------------------------------------------------------------------------------\n",
      "Intercept                268.2629    139.998      1.916      0.056      -6.830     543.356\n",
      "log_lagged_commitments    -6.3510      9.769     -0.650      0.516     -25.547      12.845\n",
      "==============================================================================\n",
      "Omnibus:                      597.286   Durbin-Watson:                   1.359\n",
      "Prob(Omnibus):                  0.000   Jarque-Bera (JB):            49558.436\n",
      "Skew:                           6.168   Prob(JB):                         0.00\n",
      "Kurtosis:                      51.387   Cond. No.                         88.0\n",
      "==============================================================================\n",
      "\n",
      "Warnings:\n",
      "[1] Standard Errors assume that the covariance matrix of the errors is correctly specified.\n"
     ]
    }
   ],
   "source": [
    "four_groups = {'HR_LA': high_receptivity_low_adaptability,\n",
    "               'LR_HA': low_receptivity_high_adaptability,\n",
    "               'LR_LA': low_receptivity_low_adaptability,\n",
    "               'HR_HA': high_receptivity_high_adaptability}\n",
    "\n",
    "\n",
    "def estimate_relationship(aid_group):\n",
    "    region_year_aid = aid_group[['year', 'NAME_1', 'usdco']].groupby(['NAME_1', 'year']).sum()\n",
    "\n",
    "    region_year_aid = add_lag(region_year_aid, 'usdco', 'lagged_commitments')\n",
    "\n",
    "    region_year_aid['commitments_difference'] = region_year_aid['usdco'] - region_year_aid['lagged_commitments']\n",
    "    region_year_aid['log_commitments'] = np.log(region_year_aid['usdco'] )\n",
    "    region_year_aid['log_lagged_commitments'] = np.log(region_year_aid['lagged_commitments'] )\n",
    "    region_year_aid['log_difference'] = np.log(region_year_aid['commitments_difference'] )\n",
    "    region_year_aid['difference_of_logs'] = region_year_aid['log_commitments'] - region_year_aid['log_lagged_commitments']\n",
    "\n",
    "    aid_and_conflict = pd.merge(region_year_aid, region_year_casualties, on = ['NAME_1', 'year'])\n",
    "\n",
    "    result = sm.ols(formula = 'best_est ~ log_lagged_commitments', data = aid_and_conflict).fit()\n",
    "    print(result.summary())\n",
    "    \n",
    "\n",
    "\n",
    "\n",
    "for key, value in four_groups.items():\n",
    "    print('CURRENT GROUP ', key)\n",
    "    estimate_relationship(value)"
   ]
  },
  {
   "cell_type": "code",
   "execution_count": null,
   "metadata": {},
   "outputs": [],
   "source": [
    "import pymc3 as pm\n",
    "formula = 'best_est ~ usdco'\n",
    "\n",
    "with pm.Model() as normal_model:\n",
    "    \n",
    "    # The prior for the data likelihood is a Normal Distribution\n",
    "    family = pm.glm.families.Normal()\n",
    "    \n",
    "    # Creating the model requires a formula and data (and optionally a family)\n",
    "    pm.GLM.from_formula(formula, data = aid_and_conflict, family = family)\n",
    "    \n",
    "    # Perform Markov Chain Monte Carlo sampling letting PyMC3 choose the algorithm\n",
    "    normal_trace = pm.sample(draws=2000, chains = 2, tune = 1500, njobs=-1)"
   ]
  },
  {
   "cell_type": "code",
   "execution_count": 30,
   "metadata": {
    "scrolled": true
   },
   "outputs": [
    {
     "ename": "AttributeError",
     "evalue": "<pymc3.distributions.continuous.Normal object at 0x0000028A4979D3C8> has no finite default value to use, checked: ('median', 'mean', 'mode'). Pass testval argument or adjust so value is finite.",
     "output_type": "error",
     "traceback": [
      "\u001b[1;31m---------------------------------------------------------------------------\u001b[0m",
      "\u001b[1;31mAttributeError\u001b[0m                            Traceback (most recent call last)",
      "\u001b[1;32m<ipython-input-30-b323315b4362>\u001b[0m in \u001b[0;36m<module>\u001b[1;34m()\u001b[0m\n\u001b[0;32m      7\u001b[0m     \u001b[1;31m# Define likelihood\u001b[0m\u001b[1;33m\u001b[0m\u001b[1;33m\u001b[0m\u001b[0m\n\u001b[0;32m      8\u001b[0m     likelihood = pm.Normal('y', mu=intercept + x_coeff * aid_and_conflict['usdco'],\n\u001b[1;32m----> 9\u001b[1;33m                         sd=sigma, observed=aid_and_conflict['best_est'])\n\u001b[0m\u001b[0;32m     10\u001b[0m \u001b[1;33m\u001b[0m\u001b[0m\n\u001b[0;32m     11\u001b[0m     \u001b[1;31m# Inference!\u001b[0m\u001b[1;33m\u001b[0m\u001b[1;33m\u001b[0m\u001b[0m\n",
      "\u001b[1;32m~\\Anaconda3\\lib\\site-packages\\pymc3\\distributions\\distribution.py\u001b[0m in \u001b[0;36m__new__\u001b[1;34m(cls, name, *args, **kwargs)\u001b[0m\n\u001b[0;32m     35\u001b[0m             \u001b[0mtotal_size\u001b[0m \u001b[1;33m=\u001b[0m \u001b[0mkwargs\u001b[0m\u001b[1;33m.\u001b[0m\u001b[0mpop\u001b[0m\u001b[1;33m(\u001b[0m\u001b[1;34m'total_size'\u001b[0m\u001b[1;33m,\u001b[0m \u001b[1;32mNone\u001b[0m\u001b[1;33m)\u001b[0m\u001b[1;33m\u001b[0m\u001b[0m\n\u001b[0;32m     36\u001b[0m             \u001b[0mdist\u001b[0m \u001b[1;33m=\u001b[0m \u001b[0mcls\u001b[0m\u001b[1;33m.\u001b[0m\u001b[0mdist\u001b[0m\u001b[1;33m(\u001b[0m\u001b[1;33m*\u001b[0m\u001b[0margs\u001b[0m\u001b[1;33m,\u001b[0m \u001b[1;33m**\u001b[0m\u001b[0mkwargs\u001b[0m\u001b[1;33m)\u001b[0m\u001b[1;33m\u001b[0m\u001b[0m\n\u001b[1;32m---> 37\u001b[1;33m             \u001b[1;32mreturn\u001b[0m \u001b[0mmodel\u001b[0m\u001b[1;33m.\u001b[0m\u001b[0mVar\u001b[0m\u001b[1;33m(\u001b[0m\u001b[0mname\u001b[0m\u001b[1;33m,\u001b[0m \u001b[0mdist\u001b[0m\u001b[1;33m,\u001b[0m \u001b[0mdata\u001b[0m\u001b[1;33m,\u001b[0m \u001b[0mtotal_size\u001b[0m\u001b[1;33m)\u001b[0m\u001b[1;33m\u001b[0m\u001b[0m\n\u001b[0m\u001b[0;32m     38\u001b[0m         \u001b[1;32melse\u001b[0m\u001b[1;33m:\u001b[0m\u001b[1;33m\u001b[0m\u001b[0m\n\u001b[0;32m     39\u001b[0m             \u001b[1;32mraise\u001b[0m \u001b[0mTypeError\u001b[0m\u001b[1;33m(\u001b[0m\u001b[1;34m\"Name needs to be a string but got: {}\"\u001b[0m\u001b[1;33m.\u001b[0m\u001b[0mformat\u001b[0m\u001b[1;33m(\u001b[0m\u001b[0mname\u001b[0m\u001b[1;33m)\u001b[0m\u001b[1;33m)\u001b[0m\u001b[1;33m\u001b[0m\u001b[0m\n",
      "\u001b[1;32m~\\Anaconda3\\lib\\site-packages\\pymc3\\model.py\u001b[0m in \u001b[0;36mVar\u001b[1;34m(self, name, dist, data, total_size)\u001b[0m\n\u001b[0;32m    830\u001b[0m                 var = ObservedRV(name=name, data=data,\n\u001b[0;32m    831\u001b[0m                                  \u001b[0mdistribution\u001b[0m\u001b[1;33m=\u001b[0m\u001b[0mdist\u001b[0m\u001b[1;33m,\u001b[0m\u001b[1;33m\u001b[0m\u001b[0m\n\u001b[1;32m--> 832\u001b[1;33m                                  total_size=total_size, model=self)\n\u001b[0m\u001b[0;32m    833\u001b[0m             \u001b[0mself\u001b[0m\u001b[1;33m.\u001b[0m\u001b[0mobserved_RVs\u001b[0m\u001b[1;33m.\u001b[0m\u001b[0mappend\u001b[0m\u001b[1;33m(\u001b[0m\u001b[0mvar\u001b[0m\u001b[1;33m)\u001b[0m\u001b[1;33m\u001b[0m\u001b[0m\n\u001b[0;32m    834\u001b[0m             \u001b[1;32mif\u001b[0m \u001b[0mvar\u001b[0m\u001b[1;33m.\u001b[0m\u001b[0mmissing_values\u001b[0m\u001b[1;33m:\u001b[0m\u001b[1;33m\u001b[0m\u001b[0m\n",
      "\u001b[1;32m~\\Anaconda3\\lib\\site-packages\\pymc3\\model.py\u001b[0m in \u001b[0;36m__init__\u001b[1;34m(self, type, owner, index, name, data, distribution, total_size, model)\u001b[0m\n\u001b[0;32m   1283\u001b[0m \u001b[1;33m\u001b[0m\u001b[0m\n\u001b[0;32m   1284\u001b[0m         \u001b[1;32mif\u001b[0m \u001b[0mdistribution\u001b[0m \u001b[1;32mis\u001b[0m \u001b[1;32mnot\u001b[0m \u001b[1;32mNone\u001b[0m\u001b[1;33m:\u001b[0m\u001b[1;33m\u001b[0m\u001b[0m\n\u001b[1;32m-> 1285\u001b[1;33m             \u001b[0mdata\u001b[0m \u001b[1;33m=\u001b[0m \u001b[0mas_tensor\u001b[0m\u001b[1;33m(\u001b[0m\u001b[0mdata\u001b[0m\u001b[1;33m,\u001b[0m \u001b[0mname\u001b[0m\u001b[1;33m,\u001b[0m \u001b[0mmodel\u001b[0m\u001b[1;33m,\u001b[0m \u001b[0mdistribution\u001b[0m\u001b[1;33m)\u001b[0m\u001b[1;33m\u001b[0m\u001b[0m\n\u001b[0m\u001b[0;32m   1286\u001b[0m \u001b[1;33m\u001b[0m\u001b[0m\n\u001b[0;32m   1287\u001b[0m             \u001b[0mself\u001b[0m\u001b[1;33m.\u001b[0m\u001b[0mmissing_values\u001b[0m \u001b[1;33m=\u001b[0m \u001b[0mdata\u001b[0m\u001b[1;33m.\u001b[0m\u001b[0mmissing_values\u001b[0m\u001b[1;33m\u001b[0m\u001b[0m\n",
      "\u001b[1;32m~\\Anaconda3\\lib\\site-packages\\pymc3\\model.py\u001b[0m in \u001b[0;36mas_tensor\u001b[1;34m(data, name, model, distribution)\u001b[0m\n\u001b[0;32m   1234\u001b[0m     \u001b[1;32mif\u001b[0m \u001b[0mhasattr\u001b[0m\u001b[1;33m(\u001b[0m\u001b[0mdata\u001b[0m\u001b[1;33m,\u001b[0m \u001b[1;34m'mask'\u001b[0m\u001b[1;33m)\u001b[0m\u001b[1;33m:\u001b[0m\u001b[1;33m\u001b[0m\u001b[0m\n\u001b[0;32m   1235\u001b[0m         \u001b[1;32mfrom\u001b[0m \u001b[1;33m.\u001b[0m\u001b[0mdistributions\u001b[0m \u001b[1;32mimport\u001b[0m \u001b[0mNoDistribution\u001b[0m\u001b[1;33m\u001b[0m\u001b[0m\n\u001b[1;32m-> 1236\u001b[1;33m         \u001b[0mtestval\u001b[0m \u001b[1;33m=\u001b[0m \u001b[0mnp\u001b[0m\u001b[1;33m.\u001b[0m\u001b[0mbroadcast_to\u001b[0m\u001b[1;33m(\u001b[0m\u001b[0mdistribution\u001b[0m\u001b[1;33m.\u001b[0m\u001b[0mdefault\u001b[0m\u001b[1;33m(\u001b[0m\u001b[1;33m)\u001b[0m\u001b[1;33m,\u001b[0m \u001b[0mdata\u001b[0m\u001b[1;33m.\u001b[0m\u001b[0mshape\u001b[0m\u001b[1;33m)\u001b[0m\u001b[1;33m[\u001b[0m\u001b[0mdata\u001b[0m\u001b[1;33m.\u001b[0m\u001b[0mmask\u001b[0m\u001b[1;33m]\u001b[0m\u001b[1;33m\u001b[0m\u001b[0m\n\u001b[0m\u001b[0;32m   1237\u001b[0m         fakedist = NoDistribution.dist(shape=data.mask.sum(), dtype=dtype,\n\u001b[0;32m   1238\u001b[0m                                        testval=testval, parent_dist=distribution)\n",
      "\u001b[1;32m~\\Anaconda3\\lib\\site-packages\\pymc3\\distributions\\distribution.py\u001b[0m in \u001b[0;36mdefault\u001b[1;34m(self)\u001b[0m\n\u001b[0;32m     60\u001b[0m \u001b[1;33m\u001b[0m\u001b[0m\n\u001b[0;32m     61\u001b[0m     \u001b[1;32mdef\u001b[0m \u001b[0mdefault\u001b[0m\u001b[1;33m(\u001b[0m\u001b[0mself\u001b[0m\u001b[1;33m)\u001b[0m\u001b[1;33m:\u001b[0m\u001b[1;33m\u001b[0m\u001b[0m\n\u001b[1;32m---> 62\u001b[1;33m         \u001b[1;32mreturn\u001b[0m \u001b[0mnp\u001b[0m\u001b[1;33m.\u001b[0m\u001b[0masarray\u001b[0m\u001b[1;33m(\u001b[0m\u001b[0mself\u001b[0m\u001b[1;33m.\u001b[0m\u001b[0mget_test_val\u001b[0m\u001b[1;33m(\u001b[0m\u001b[0mself\u001b[0m\u001b[1;33m.\u001b[0m\u001b[0mtestval\u001b[0m\u001b[1;33m,\u001b[0m \u001b[0mself\u001b[0m\u001b[1;33m.\u001b[0m\u001b[0mdefaults\u001b[0m\u001b[1;33m)\u001b[0m\u001b[1;33m,\u001b[0m \u001b[0mself\u001b[0m\u001b[1;33m.\u001b[0m\u001b[0mdtype\u001b[0m\u001b[1;33m)\u001b[0m\u001b[1;33m\u001b[0m\u001b[0m\n\u001b[0m\u001b[0;32m     63\u001b[0m \u001b[1;33m\u001b[0m\u001b[0m\n\u001b[0;32m     64\u001b[0m     \u001b[1;32mdef\u001b[0m \u001b[0mget_test_val\u001b[0m\u001b[1;33m(\u001b[0m\u001b[0mself\u001b[0m\u001b[1;33m,\u001b[0m \u001b[0mval\u001b[0m\u001b[1;33m,\u001b[0m \u001b[0mdefaults\u001b[0m\u001b[1;33m)\u001b[0m\u001b[1;33m:\u001b[0m\u001b[1;33m\u001b[0m\u001b[0m\n",
      "\u001b[1;32m~\\Anaconda3\\lib\\site-packages\\pymc3\\distributions\\distribution.py\u001b[0m in \u001b[0;36mget_test_val\u001b[1;34m(self, val, defaults)\u001b[0m\n\u001b[0;32m     74\u001b[0m                                  \u001b[1;34m\"checked: %s. Pass testval argument or \"\u001b[0m\u001b[1;33m\u001b[0m\u001b[0m\n\u001b[0;32m     75\u001b[0m                                  \u001b[1;34m\"adjust so value is finite.\"\u001b[0m\u001b[1;33m\u001b[0m\u001b[0m\n\u001b[1;32m---> 76\u001b[1;33m                                  % (self, str(defaults)))\n\u001b[0m\u001b[0;32m     77\u001b[0m \u001b[1;33m\u001b[0m\u001b[0m\n\u001b[0;32m     78\u001b[0m     \u001b[1;32mdef\u001b[0m \u001b[0mgetattr_value\u001b[0m\u001b[1;33m(\u001b[0m\u001b[0mself\u001b[0m\u001b[1;33m,\u001b[0m \u001b[0mval\u001b[0m\u001b[1;33m)\u001b[0m\u001b[1;33m:\u001b[0m\u001b[1;33m\u001b[0m\u001b[0m\n",
      "\u001b[1;31mAttributeError\u001b[0m: <pymc3.distributions.continuous.Normal object at 0x0000028A4979D3C8> has no finite default value to use, checked: ('median', 'mean', 'mode'). Pass testval argument or adjust so value is finite."
     ]
    }
   ],
   "source": [
    "with pm.Model() as model: # model specifications in PyMC3 are wrapped in a with-statement\n",
    "    # Define priors\n",
    "    sigma = pm.HalfCauchy('sigma', beta=10, testval=1.)\n",
    "    intercept = pm.Normal('Intercept', 0, sd=20)\n",
    "    x_coeff = pm.Normal('x', 0, sd=20)\n",
    "\n",
    "    # Define likelihood\n",
    "    likelihood = pm.Normal('y', mu=intercept + x_coeff * aid_and_conflict['usdco'],\n",
    "                        sd=sigma, observed=aid_and_conflict['best_est'])\n",
    "\n",
    "    # Inference!\n",
    "    trace = pm.sample(3000, cores=2) # draw 3000 posterior samples using NUTS sampling"
   ]
  },
  {
   "cell_type": "code",
   "execution_count": null,
   "metadata": {
    "collapsed": true
   },
   "outputs": [],
   "source": [
    "basic_model = pm.Model()\n",
    "\n",
    "with basic_model:\n",
    "\n",
    "    # Priors for unknown model parameters\n",
    "    alpha = pm.Normal('alpha', mu=0, sd=10)\n",
    "    beta = pm.Normal('beta', mu=0, sd=10, shape=2)\n",
    "    sigma = pm.HalfNormal('sigma', sd=1)\n",
    "\n",
    "    # Expected value of outcome\n",
    "    mu = alpha + beta[0]*X1 + beta[1]*X2\n",
    "\n",
    "    # Likelihood (sampling distribution) of observations\n",
    "    Y_obs = pm.Normal('Y_obs', mu=mu, sd=sigma, observed=Y)\n"
   ]
  },
  {
   "cell_type": "code",
   "execution_count": 19,
   "metadata": {},
   "outputs": [
    {
     "data": {
      "image/png": "[encoded data removed]",
      "text/plain": [
       "<matplotlib.figure.Figure at 0x28a4e839c18>"
      ]
     },
     "metadata": {},
     "output_type": "display_data"
    }
   ],
   "source": [
    "pm.traceplot(normal_trace, figsize = (20, 15))\n",
    "#plt.savefig('Graphs\\\\traceplot.png')\n",
    "plt.show()"
   ]
  },
  {
   "cell_type": "code",
   "execution_count": null,
   "metadata": {
    "collapsed": true
   },
   "outputs": [],
   "source": []
  }
 ],
 "metadata": {
  "kernelspec": {
   "display_name": "Python 3",
   "language": "python",
   "name": "python3"
  },
  "language_info": {
   "codemirror_mode": {
    "name": "ipython",
    "version": 3
   },
   "file_extension": ".py",
   "mimetype": "text/x-python",
   "name": "python",
   "nbconvert_exporter": "python",
   "pygments_lexer": "ipython3",
   "version": "3.6.3"
  }
 },
 "nbformat": 4,
 "nbformat_minor": 2
}

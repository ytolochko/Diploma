{
 "cells": [
  {
   "cell_type": "code",
   "execution_count": 30,
   "metadata": {
    "collapsed": true
   },
   "outputs": [],
   "source": [
    "import pandas as pd\n",
    "import numpy as np"
   ]
  },
  {
   "cell_type": "code",
   "execution_count": 25,
   "metadata": {},
   "outputs": [],
   "source": [
    "covariates = pd.read_csv('merge_20180731yurii.csv')"
   ]
  },
  {
   "cell_type": "code",
   "execution_count": 27,
   "metadata": {},
   "outputs": [],
   "source": [
    "covariates.drop(covariates.columns[ [i for i in range(19,45)] ], axis = 1, inplace = True)"
   ]
  },
  {
   "cell_type": "code",
   "execution_count": 28,
   "metadata": {
    "scrolled": false
   },
   "outputs": [
    {
     "data": {
      "text/plain": [
       "gpw_v4_count.2000.mean                      float64\n",
       "gpw_v4_count.2005.mean                      float64\n",
       "gpw_v4_count.2010.mean                      float64\n",
       "gpw_v4_density.2000.mean                    float64\n",
       "gpw_v4_density.2005.mean                    float64\n",
       "gpw_v4_density.2010.mean                    float64\n",
       "v4composites_calibrated_201709.1998.mean    float64\n",
       "v4composites_calibrated_201709.1999.mean    float64\n",
       "v4composites_calibrated_201709.2000.mean    float64\n",
       "v4composites_calibrated_201709.2001.mean    float64\n",
       "v4composites_calibrated_201709.2002.mean    float64\n",
       "v4composites_calibrated_201709.2003.mean    float64\n",
       "v4composites_calibrated_201709.2004.mean    float64\n",
       "v4composites_calibrated_201709.2005.mean    float64\n",
       "v4composites_calibrated_201709.2006.mean    float64\n",
       "v4composites_calibrated_201709.2007.mean    float64\n",
       "v4composites_calibrated_201709.2008.mean    float64\n",
       "v4composites_calibrated_201709.2009.mean    float64\n",
       "v4composites_calibrated_201709.2010.mean    float64\n",
       "accessibility_map.na.mean                   float64\n",
       "gdp_grid.na.mean                            float64\n",
       "diamond_distance_201708.na.sum              float64\n",
       "onshore_petroleum_v12.na.sum                float64\n",
       "GID_0                                        object\n",
       "NAME_0                                       object\n",
       "GID_1                                        object\n",
       "NAME_1                                       object\n",
       "VARNAME_1                                    object\n",
       "NL_NAME_1                                    object\n",
       "TYPE_1                                       object\n",
       "ENGTYPE_1                                    object\n",
       "CC_1                                         object\n",
       "HASC_1                                       object\n",
       "dtype: object"
      ]
     },
     "execution_count": 28,
     "metadata": {},
     "output_type": "execute_result"
    }
   ],
   "source": [
    "covariates.dtypes"
   ]
  },
  {
   "cell_type": "code",
   "execution_count": 52,
   "metadata": {
    "scrolled": true
   },
   "outputs": [],
   "source": [
    "covariates['gpw_v4_count.1998.mean'] = covariates['gpw_v4_count.2000.mean']\n",
    "covariates['gpw_v4_count.1998.mean'] = covariates['gpw_v4_count.2000.mean']\n",
    "covariates['gpw_v4_density.1998.mean'] = covariates['gpw_v4_density.2000.mean']\n",
    "covariates['gpw_v4_density.1998.mean'] = covariates['gpw_v4_density.2000.mean']\n",
    "\n",
    "covariates['gpw_v4_count.2011.mean'] = covariates['gpw_v4_count.2010.mean']\n",
    "covariates['gpw_v4_count.2012.mean'] = covariates['gpw_v4_count.2010.mean']\n",
    "covariates['gpw_v4_count.2013.mean'] = covariates['gpw_v4_count.2010.mean']\n",
    "covariates['gpw_v4_count.2014.mean'] = covariates['gpw_v4_count.2010.mean']\n",
    "\n",
    "covariates['gpw_v4_density.2011.mean'] = covariates['gpw_v4_density.2010.mean']\n",
    "covariates['gpw_v4_density.2012.mean'] = covariates['gpw_v4_density.2010.mean']\n",
    "covariates['gpw_v4_density.2013.mean'] = covariates['gpw_v4_density.2010.mean']\n",
    "covariates['gpw_v4_density.2014.mean'] = covariates['gpw_v4_density.2010.mean']\n",
    "\n",
    "\n",
    "covariates['gpw_v4_count.2001.mean'] = covariates.apply(lambda row: np.interp(1, [0, 5], [row['gpw_v4_count.2000.mean'], row['gpw_v4_count.2005.mean']]), axis=1)\n",
    "covariates['gpw_v4_count.2002.mean'] = covariates.apply(lambda row: np.interp(2, [0, 5], [row['gpw_v4_count.2000.mean'], row['gpw_v4_count.2005.mean']]), axis=1)\n",
    "covariates['gpw_v4_count.2003.mean'] = covariates.apply(lambda row: np.interp(3, [0, 5], [row['gpw_v4_count.2000.mean'], row['gpw_v4_count.2005.mean']]), axis=1)\n",
    "covariates['gpw_v4_count.2004.mean'] = covariates.apply(lambda row: np.interp(4, [0, 5], [row['gpw_v4_count.2000.mean'], row['gpw_v4_count.2005.mean']]), axis=1)\n",
    "\n",
    "covariates['gpw_v4_count.2006.mean'] = covariates.apply(lambda row: np.interp(1, [0, 5], [row['gpw_v4_count.2005.mean'], row['gpw_v4_count.2010.mean']]), axis=1)\n",
    "covariates['gpw_v4_count.2007.mean'] = covariates.apply(lambda row: np.interp(2, [0, 5], [row['gpw_v4_count.2005.mean'], row['gpw_v4_count.2010.mean']]), axis=1)\n",
    "covariates['gpw_v4_count.2008.mean'] = covariates.apply(lambda row: np.interp(3, [0, 5], [row['gpw_v4_count.2005.mean'], row['gpw_v4_count.2010.mean']]), axis=1)\n",
    "covariates['gpw_v4_count.2009.mean'] = covariates.apply(lambda row: np.interp(4, [0, 5], [row['gpw_v4_count.2005.mean'], row['gpw_v4_count.2010.mean']]), axis=1)\n",
    "\n",
    "covariates['gpw_v4_count.2006.mean'] = covariates.apply(lambda row: np.interp(1, [0, 5], [row['gpw_v4_count.2005.mean'], row['gpw_v4_count.2010.mean']]), axis=1)\n",
    "covariates['gpw_v4_count.2007.mean'] = covariates.apply(lambda row: np.interp(2, [0, 5], [row['gpw_v4_count.2005.mean'], row['gpw_v4_count.2010.mean']]), axis=1)\n",
    "covariates['gpw_v4_count.2008.mean'] = covariates.apply(lambda row: np.interp(3, [0, 5], [row['gpw_v4_count.2005.mean'], row['gpw_v4_count.2010.mean']]), axis=1)\n",
    "covariates['gpw_v4_count.2009.mean'] = covariates.apply(lambda row: np.interp(4, [0, 5], [row['gpw_v4_count.2005.mean'], row['gpw_v4_count.2010.mean']]), axis=1)\n",
    "\n",
    "\n",
    "covariates['gpw_v4_density.2001.mean'] = covariates.apply(lambda row: np.interp(1, [0, 5], [row['gpw_v4_density.2000.mean'], row['gpw_v4_density.2000.mean']]), axis=1)\n",
    "covariates['gpw_v4_density.2002.mean'] = covariates.apply(lambda row: np.interp(2, [0, 5], [row['gpw_v4_density.2000.mean'], row['gpw_v4_density.2000.mean']]), axis=1)\n",
    "covariates['gpw_v4_density.2003.mean'] = covariates.apply(lambda row: np.interp(3, [0, 5], [row['gpw_v4_density.2000.mean'], row['gpw_v4_density.2000.mean']]), axis=1)\n",
    "covariates['gpw_v4_density.2004.mean'] = covariates.apply(lambda row: np.interp(4, [0, 5], [row['gpw_v4_density.2000.mean'], row['gpw_v4_density.2000.mean']]), axis=1)\n",
    "\n",
    "covariates['gpw_v4_density.2006.mean'] = covariates.apply(lambda row: np.interp(1, [0, 5], [row['gpw_v4_density.2005.mean'], row['gpw_v4_density.2010.mean']]), axis=1)\n",
    "covariates['gpw_v4_density.2007.mean'] = covariates.apply(lambda row: np.interp(2, [0, 5], [row['gpw_v4_density.2005.mean'], row['gpw_v4_density.2010.mean']]), axis=1)\n",
    "covariates['gpw_v4_density.2008.mean'] = covariates.apply(lambda row: np.interp(3, [0, 5], [row['gpw_v4_density.2005.mean'], row['gpw_v4_density.2010.mean']]), axis=1)\n",
    "covariates['gpw_v4_density.2009.mean'] = covariates.apply(lambda row: np.interp(4, [0, 5], [row['gpw_v4_density.2005.mean'], row['gpw_v4_density.2010.mean']]), axis=1)\n"
   ]
  },
  {
   "cell_type": "code",
   "execution_count": 54,
   "metadata": {},
   "outputs": [],
   "source": [
    "covariates.to_csv('covariates.csv')"
   ]
  },
  {
   "cell_type": "code",
   "execution_count": null,
   "metadata": {
    "collapsed": true
   },
   "outputs": [],
   "source": []
  }
 ],
 "metadata": {
  "kernelspec": {
   "display_name": "Python 3",
   "language": "python",
   "name": "python3"
  },
  "language_info": {
   "codemirror_mode": {
    "name": "ipython",
    "version": 3
   },
   "file_extension": ".py",
   "mimetype": "text/x-python",
   "name": "python",
   "nbconvert_exporter": "python",
   "pygments_lexer": "ipython3",
   "version": "3.6.3"
  }
 },
 "nbformat": 4,
 "nbformat_minor": 2
}

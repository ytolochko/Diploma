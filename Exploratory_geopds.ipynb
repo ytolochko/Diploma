{
 "cells": [
  {
   "cell_type": "code",
   "execution_count": 1,
   "metadata": {},
   "outputs": [
    {
     "name": "stderr",
     "output_type": "stream",
     "text": [
      "WARNING (theano.configdefaults): g++ not available, if using conda: `conda install m2w64-toolchain`\n",
      "C:\\Users\\Yurii\\Anaconda3\\lib\\site-packages\\theano\\configdefaults.py:560: UserWarning: DeprecationWarning: there is no c++ compiler.This is deprecated and with Theano 0.11 a c++ compiler will be mandatory\n",
      "  warnings.warn(\"DeprecationWarning: there is no c++ compiler.\"\n",
      "WARNING (theano.configdefaults): g++ not detected ! Theano will be unable to execute optimized C-implementations (for both CPU and GPU) and will default to Python implementations. Performance will be severely degraded. To remove this warning, set Theano flags cxx to an empty string.\n",
      "WARNING (theano.tensor.blas): Using NumPy C-API based implementation for BLAS functions.\n"
     ]
    }
   ],
   "source": [
    "import numpy as np\n",
    "import geopandas as gpd\n",
    "from shapely.geometry import Point\n",
    "import pandas as pd\n",
    "import re as re\n",
    "import os\n",
    "import copy\n",
    "import statsmodels.formula.api as sm\n",
    "import pymc3 as pm\n",
    "import matplotlib.pyplot as plt"
   ]
  },
  {
   "cell_type": "code",
   "execution_count": 2,
   "metadata": {
    "collapsed": true,
    "scrolled": true
   },
   "outputs": [],
   "source": [
    "conflict = pd.read_csv('Data\\\\conflict_data\\\\DRC_2.csv', header = 0, index_col = 0)\n",
    "\n",
    "aid = pd.read_csv('Data\\\\aid_data\\\\data\\\\level_1a.csv')\n",
    "aid = aid.dropna(subset=['latitude', 'longitude', 'transactions_start_year']) # drop those entries that don't have coordinates and start year to them\n",
    "#aid = aid.drop(aid[aid['transactions_start_year'] == ' '].index) # some projects don't have start year, so we drop those rows\n",
    "aid = aid.drop(aid[aid['even_split_commitments'].isnull()].index) # some projects don't have info on commitments, so we drop those rows\n",
    "aid['transactions_start_year'] = pd.to_numeric(aid['transactions_start_year'])\n",
    "\n",
    "worker_deaths = pd.read_csv('Data\\\\security_incidents.csv', encoding = \"ISO-8859-1\")\n",
    "\n",
    "provinces = gpd.read_file('Data\\\\gadm36_COD_shp/gadm36_COD_1.shp')"
   ]
  },
  {
   "cell_type": "code",
   "execution_count": 3,
   "metadata": {
    "collapsed": true
   },
   "outputs": [],
   "source": [
    "geometry = [Point(xy) for xy in zip(conflict.longitude, conflict.latitude)]\n",
    "gconflict = gpd.GeoDataFrame(conflict, crs = {'init': 'epsg:4326'}, geometry = geometry)\n",
    "\n",
    "geometry = [Point(xy) for xy in zip(aid.longitude, aid.latitude)]\n",
    "gaid = gpd.GeoDataFrame(aid, crs = {'init': 'epsg:4326'}, geometry = geometry)\n",
    "\n",
    "geometry = [Point(xy) for xy in zip(worker_deaths.Longitude, worker_deaths.Latitude)]\n",
    "g_w_d = gpd.GeoDataFrame(worker_deaths, crs = {'init': 'epsg:4326'}, geometry = geometry) # g_w_d = gworker_deaths\n",
    "\n",
    "\n",
    "gconflict = gpd.sjoin(gconflict, provinces, how=\"inner\")\n",
    "gaid = gpd.sjoin(gaid, provinces, how=\"inner\")\n",
    "g_w_d = gpd.sjoin(g_w_d, provinces, how=\"inner\")\n"
   ]
  },
  {
   "cell_type": "code",
   "execution_count": 238,
   "metadata": {
    "collapsed": true
   },
   "outputs": [],
   "source": [
    "def plot_distances(year):\n",
    "    min_dists = []\n",
    "    for aid_project in gaid[gaid['transactions_start_year'] == year]['geometry']:\n",
    "        min_dists.append(min(gconflict[gconflict['year'] == year + 1]['geometry'].distance(aid_project)))\n",
    "    \n",
    "    min_dists = pd.Series(min_dists) * 110\n",
    "    \n",
    "    #min_dists.plot.density()\n",
    "    \n",
    "    #plt.show()\n",
    "    #print(min_dists.mean())\n",
    "    #print(min_dists.median())\n",
    "    return min_dists"
   ]
  },
  {
   "cell_type": "code",
   "execution_count": 239,
   "metadata": {
    "scrolled": false
   },
   "outputs": [],
   "source": [
    "distances = pd.Series()\n",
    "\n",
    "for year in range(2000, 2014):\n",
    "    try:  \n",
    "        distances = distances.append(plot_distances(year))\n",
    "    except:\n",
    "        print(year)\n",
    "        continue\n",
    "\n",
    "#plt.show()"
   ]
  },
  {
   "cell_type": "code",
   "execution_count": 240,
   "metadata": {},
   "outputs": [
    {
     "data": {
      "image/png": "[encoded data removed]",
      "text/plain": [
       "<matplotlib.figure.Figure at 0x24756aaeef0>"
      ]
     },
     "metadata": {},
     "output_type": "display_data"
    },
    {
     "name": "stdout",
     "output_type": "stream",
     "text": [
      "272.0901533615543\n",
      "156.43641404771805\n"
     ]
    }
   ],
   "source": [
    "distances.plot.density()\n",
    "plt.show()\n",
    "print(distances.mean())\n",
    "print(distances.median())"
   ]
  },
  {
   "cell_type": "code",
   "execution_count": 4,
   "metadata": {
    "collapsed": true
   },
   "outputs": [],
   "source": [
    "# calculate the number of rows there column_name has more than one entry, separated by \"|\". We use this for donors and aid focus. \n",
    "def calc_multiples(df, column_name):\n",
    "    s = 0\n",
    "    l = []\n",
    "    for index, row in df.iterrows():\n",
    "        entries = row[column_name].split(\"|\")\n",
    "        if len(entries) > 1:\n",
    "            s += 1\n",
    "            l.append(index)\n",
    "    return s#, l\n",
    "\n",
    "# split those rows that have more than one entry in a certain column name.\n",
    "# We create a new row for each of the multiple entries (other entries being the same)\n",
    "# and delete the original multiple entry row. \n",
    "def split_rows(data, column_name):\n",
    "    df = copy.deepcopy(data)\n",
    "    temp = pd.DataFrame()\n",
    "    for index, row in df.iterrows():\n",
    "        entries = row[column_name].split(\"|\")\n",
    "        if len(entries) > 1:\n",
    "            for entry in entries:\n",
    "                temp_row = row\n",
    "                temp_row[column_name] = entry\n",
    "                temp = temp.append(temp_row)\n",
    "            df.drop(index, inplace = True)\n",
    "            \n",
    "    return df.append(temp)\n",
    "\n",
    "# split the rows(projects) that have more than one donor per project\n",
    "gaid = split_rows(gaid, 'donors')\n",
    "gaid = split_rows(gaid, 'ad_sector_names')"
   ]
  },
  {
   "cell_type": "code",
   "execution_count": 5,
   "metadata": {
    "collapsed": true
   },
   "outputs": [],
   "source": [
    "if not os.path.exists('measures_indices'):\n",
    "    os.makedirs('measures_indices')\n",
    "    \n",
    "# how many projects there are per donor and their share in the total, save in a csv file  \n",
    "total = gaid['donors'].value_counts() # total N of projects per donor\n",
    "share = gaid['donors'].value_counts() / gaid.shape[0] # calculate share of the projects per donor in total N of projects\n",
    "pd.concat([total, share], axis = 1).to_csv('measures_indices\\\\N_projects_per_donor.csv')\n",
    "\n",
    "# what share of projects per donor have multiple focus sectors (e.g. General environmental protection|Transport and storage)\n",
    "multiple_focus_share = (gaid.groupby('donors').apply(calc_multiples, 'ad_sector_names') / gaid['donors'].value_counts())\n",
    "multiple_focus_share.to_csv('measures_indices\\\\project_multiple_sectors.csv')\n",
    "\n",
    "# share of each project focus in the total number of projects per donor. We use this to calculate variablity of project focus for a donor\n",
    "focus_share = (gaid.groupby(['donors', 'ad_sector_names']).size() / gaid.groupby(['donors']).size())\n",
    "focus_share.to_csv('measures_indices\\\\donor_sector_share.csv')"
   ]
  },
  {
   "cell_type": "code",
   "execution_count": 6,
   "metadata": {
    "collapsed": true
   },
   "outputs": [],
   "source": [
    "# Func calculates the coefficient of unalikeability (as defined by Kader 2007) of every sublcass of first_group variable by topic_name\n",
    "# E.g. unalikeability of project location for each aid donor -> calc_unalikeability(gaid, 'donors', 'ad_sector_names')\n",
    "\n",
    "def calc_unalikeability(data, first_group, topic_name):\n",
    "    \n",
    "    # prepare data: group by first_group and topic_name, and divide by the size of the respective group\n",
    "    # thus we obtain the share that each topic_name has in the respective first_group\n",
    "    \n",
    "    d = (data.groupby([first_group, topic_name]).size() / gaid.groupby([first_group]).size())\n",
    "    \n",
    "    # here we get the keys for the first level grouping. So, the unique values of first group column\n",
    "    keys = []\n",
    "    for i in d.index:\n",
    "        keys.append(i[0])\n",
    "    keys = set(keys)\n",
    "    \n",
    "    # here we calculate the actual coefficient\n",
    "    # for every value of first_group we calculate its coefficient:\n",
    "    # coefficient is defined as 1 - SUM_i(p_i^2), where p_i is the share of the ith subgroup in the total group. \n",
    "    \n",
    "    coefs = {}\n",
    "    for key in keys:\n",
    "        s = 0\n",
    "        for subgroup in d[key]:\n",
    "            s += subgroup ** 2\n",
    "        coef = 1 - s\n",
    "        coefs[key] = coef\n",
    "    return pd.Series(coefs)\n",
    "\n",
    "\n",
    "# calculates the variablity of topic_name (e.g. total commitments of money) for every member of first_group\n",
    "def calc_var(data, first_group, topic_name):\n",
    "    d = data.groupby(first_group)\n",
    "    \n",
    "    def var(d):\n",
    "        d = d[topic_name]\n",
    "        d = (d - min(d)) / (max(d) - min(d))\n",
    "        \n",
    "        if np.isnan(np.var(d)):\n",
    "            return 0\n",
    "        \n",
    "        return np.var(d)\n",
    "    \n",
    "    return d.apply(var)"
   ]
  },
  {
   "cell_type": "code",
   "execution_count": 7,
   "metadata": {
    "collapsed": true,
    "scrolled": true
   },
   "outputs": [],
   "source": [
    "adaptability_by_focus = calc_unalikeability(gaid, 'donors', 'ad_sector_names')\n",
    "adaptability_by_location =calc_unalikeability(gaid, 'donors', 'NAME_1')\n",
    "adaptability_by_start_year = calc_unalikeability(gaid, 'donors', 'transactions_start_year')\n",
    "adaptability_by_commitment = calc_var(gaid, 'donors', 'total_commitments')\n",
    "composite_adaptability = adaptability_by_commitment + adaptability_by_start_year + adaptability_by_location + adaptability_by_focus\n",
    "#pd.DataFrame.from_dict(adaptability_by_focus, orient = 'index').to_csv('measures_indices\\\\adaptability_by_focus.csv')\n",
    "#pd.DataFrame.from_dict(adaptability_by_location, orient = 'index').to_csv('measures_indices\\\\adaptability_by_location.csv')\n",
    "#pd.DataFrame.from_dict(adaptability_by_start_year, orient = 'index').to_csv('measures_indices\\\\adaptability_by_start_year.csv')\n",
    "#adaptability_by_commitment.to_csv('measures_indices\\\\adaptability_by_commitments.csv')\n",
    "#(composite_adaptability).to_csv('measures_indices\\\\composite_adaptability.csv')"
   ]
  },
  {
   "cell_type": "code",
   "execution_count": 8,
   "metadata": {
    "collapsed": true
   },
   "outputs": [],
   "source": [
    "# Divide donors into 2 groups: higly adaptable and not higly adaptable, the division line is the median. \n",
    "median = composite_adaptability.median()\n",
    "high_adaptability = composite_adaptability[composite_adaptability >= median]\n",
    "low_adaptability = composite_adaptability[composite_adaptability < median]"
   ]
  },
  {
   "cell_type": "code",
   "execution_count": 47,
   "metadata": {
    "collapsed": true,
    "scrolled": true
   },
   "outputs": [],
   "source": [
    "# Compute the year, ADM1 pairs of events when aid workers were killed. \n",
    "# Then, we can assume that these are unreceptive year, region pairs.\n",
    "# However, we can also divide this into 2 subgroups: more than average (or median) casualties vs less than average (or median) casualties\n",
    "worker_deaths_grouped = g_w_d.groupby(['Year', 'NAME_1'])['Total affected'].sum()\n",
    "worker_deaths_grouped.to_csv('measures_indices\\\\year_location_pairs.csv')\n",
    "\n",
    "# The idea is that low_receptivity is depcited by a lot of worker deaths\n",
    "# high receptivity is depicted by a lesser number of worker deaths\n",
    "\n",
    "#low_receptivity = worker_deaths_grouped > worker_deaths_grouped.describe()['mean']\n",
    "#high_receptivity = worker_deaths_grouped < worker_deaths_grouped.describe()['mean']\n",
    "\n",
    "low_receptivity = worker_deaths_grouped > 0\n",
    "high_receptivity = worker_deaths_grouped == 0"
   ]
  },
  {
   "cell_type": "code",
   "execution_count": 48,
   "metadata": {
    "collapsed": true
   },
   "outputs": [],
   "source": [
    "# custom function to check whether a tuple is included in an array of tuples (for some reason, basic function did not work)\n",
    "def check_in (tupl, array):\n",
    "    for element in array:\n",
    "        if (tupl[0] == element[0]) & (tupl[1] == element[1]):\n",
    "            return True\n",
    "\n",
    "# select those row numbers (indices) of gaid dataframe that represent projects that started in the same year/adm1 combination\n",
    "# as highly receptive ones\n",
    "low_receptive_indices = []\n",
    "for index, row in gaid.iterrows():\n",
    "    tupl = (int(row['transactions_start_year']), row['NAME_1'])\n",
    "    if check_in(tupl, worker_deaths_grouped[low_receptivity].index.values):\n",
    "        low_receptive_indices.append(index)\n",
    "\n",
    "        \n",
    "# select projects that are created in higly receptive and low receptive year/adm1 combinations \n",
    "\n",
    "low_receptive = gaid.iloc[low_receptive_indices]\n",
    "highly_receptive = gaid.loc[~gaid.index.isin(low_receptive_indices)]\n",
    "\n",
    "#low_receptive = gaid.loc[~gaid.index.isin(high_receptive_indices)]\n",
    "#highly_receptive = gaid.iloc[high_receptive_indices]"
   ]
  },
  {
   "cell_type": "code",
   "execution_count": 49,
   "metadata": {
    "collapsed": true,
    "scrolled": true
   },
   "outputs": [],
   "source": [
    "# High receptivity + high adaptability indices\n",
    "high_receptivity_high_adaptability = highly_receptive[highly_receptive['donors'].isin(high_adaptability.index)]\n",
    "high_receptivity_low_adaptability = highly_receptive[highly_receptive['donors'].isin(low_adaptability.index)]\n",
    "\n",
    "low_receptivity_high_adaptability = low_receptive[low_receptive['donors'].isin(high_adaptability.index)]\n",
    "low_receptivity_low_adaptability = low_receptive[low_receptive['donors'].isin(low_adaptability.index)]"
   ]
  },
  {
   "cell_type": "code",
   "execution_count": 5,
   "metadata": {
    "collapsed": true,
    "scrolled": true
   },
   "outputs": [],
   "source": [
    "region_year_casualties = gconflict[['year', 'NAME_1', 'best_est']].groupby(['NAME_1', 'year']).sum()\n",
    "region_year_aid = gaid[['transactions_start_year', 'NAME_1', 'even_split_commitments']].groupby(['NAME_1', 'transactions_start_year']).sum()"
   ]
  },
  {
   "cell_type": "code",
   "execution_count": 49,
   "metadata": {
    "collapsed": true
   },
   "outputs": [],
   "source": [
    "def add_lag(df, column_name, new_name):\n",
    "    output = pd.DataFrame()\n",
    "    df[new_name] = df.groupby(level = 0)[column_name].shift(1)\n",
    "    by_country = df.groupby(level = 0)\n",
    "    for name, group in by_country:\n",
    "        country = group.reset_index()\n",
    "        last_row = country.iloc[-1, :]\n",
    "        if new_name == 'lagged_commitments':\n",
    "            temp = pd.Series({'NAME_1': last_row['NAME_1'],\n",
    "                      'transactions_start_year': last_row['transactions_start_year'] + 1, \n",
    "                      'even_split_commitments': float('nan'),\n",
    "                      'lagged_commitments' : last_row['even_split_commitments']})\n",
    "        if new_name == 'lagged_casualties':\n",
    "            temp = pd.Series({'NAME_1': last_row['NAME_1'],\n",
    "                      'year': last_row['year'] + 1, \n",
    "                      'best_est': float('nan'),\n",
    "                      'lagged_casualties' : last_row['best_est']})\n",
    "        country = country.append(temp, ignore_index = True)\n",
    "        output = output.append(country)\n",
    "    return output"
   ]
  },
  {
   "cell_type": "code",
   "execution_count": 7,
   "metadata": {
    "collapsed": true
   },
   "outputs": [],
   "source": [
    "# add the lag variable (for a (district, year) pair (d, t) , we are looking at commitments on (d, t-1). This action also resets hierachical index\n",
    "region_year_aid = add_lag(region_year_aid, 'even_split_commitments', 'lagged_commitments')\n",
    "\n",
    "# rename the column regarding the start year so that it corresponds to the name in casualties dataset\n",
    "region_year_aid = region_year_aid.rename(columns = {'even_split_commitments': 'commitments', 'transactions_start_year': 'year'})\n",
    "\n",
    "# reset the hierachical index, so that the dataframe obtain the same structure\n",
    "region_year_casualties = add_lag(region_year_casualties, 'best_est', 'lagged_casualties')"
   ]
  },
  {
   "cell_type": "code",
   "execution_count": 8,
   "metadata": {
    "collapsed": true
   },
   "outputs": [],
   "source": [
    "region_year_aid['commitments_difference'] = region_year_aid['commitments'] - region_year_aid['lagged_commitments']\n",
    "region_year_aid['log_commitments'] = np.log(region_year_aid['commitments'] )\n",
    "region_year_aid['log_lagged_commitments'] = np.log(region_year_aid['lagged_commitments'] )\n",
    "region_year_aid['log_difference'] = np.log(region_year_aid['commitments_difference'] )\n",
    "region_year_aid['difference_of_logs'] = region_year_aid['log_commitments'] - region_year_aid['log_lagged_commitments']\n",
    "\n",
    "region_year_casualties['casulaties_difference'] = region_year_casualties['best_est'] - region_year_casualties['lagged_casualties']\n",
    "region_year_casualties['casulaties_log'] = np.log(region_year_casualties['best_est'])\n",
    "#region_year_casualties['casulaties_log'] = np.log(region_year_casualties['best_est'])\n",
    "region_year_casualties['casulaties_standardized'] = (region_year_casualties['best_est'] - np.mean(region_year_casualties['best_est'])) / np.var(region_year_casualties['best_est'])\n",
    "region_year_casualties['lagged_casualties_standardized'] = (region_year_casualties['lagged_casualties'] - np.mean(region_year_casualties['lagged_casualties'])) / np.var(region_year_casualties['lagged_casualties'])"
   ]
  },
  {
   "cell_type": "code",
   "execution_count": 9,
   "metadata": {
    "collapsed": true
   },
   "outputs": [],
   "source": [
    "aid_and_conflict = pd.merge(region_year_aid, region_year_casualties, on = ['NAME_1', 'year'])"
   ]
  },
  {
   "cell_type": "code",
   "execution_count": 11,
   "metadata": {},
   "outputs": [
    {
     "data": {
      "text/html": [
       "<table class=\"simpletable\">\n",
       "<caption>OLS Regression Results</caption>\n",
       "<tr>\n",
       "  <th>Dep. Variable:</th>    <td>casulaties_standardized</td> <th>  R-squared:         </th> <td>   0.219</td>\n",
       "</tr>\n",
       "<tr>\n",
       "  <th>Model:</th>                      <td>OLS</td>           <th>  Adj. R-squared:    </th> <td>   0.196</td>\n",
       "</tr>\n",
       "<tr>\n",
       "  <th>Method:</th>                <td>Least Squares</td>      <th>  F-statistic:       </th> <td>   9.396</td>\n",
       "</tr>\n",
       "<tr>\n",
       "  <th>Date:</th>                <td>Thu, 12 Jul 2018</td>     <th>  Prob (F-statistic):</th> <td>0.000253</td>\n",
       "</tr>\n",
       "<tr>\n",
       "  <th>Time:</th>                    <td>19:19:22</td>         <th>  Log-Likelihood:    </th> <td>  519.56</td>\n",
       "</tr>\n",
       "<tr>\n",
       "  <th>No. Observations:</th>         <td>    70</td>          <th>  AIC:               </th> <td>  -1033.</td>\n",
       "</tr>\n",
       "<tr>\n",
       "  <th>Df Residuals:</th>             <td>    67</td>          <th>  BIC:               </th> <td>  -1026.</td>\n",
       "</tr>\n",
       "<tr>\n",
       "  <th>Df Model:</th>                 <td>     2</td>          <th>                     </th>     <td> </td>   \n",
       "</tr>\n",
       "<tr>\n",
       "  <th>Covariance Type:</th>         <td>nonrobust</td>        <th>                     </th>     <td> </td>   \n",
       "</tr>\n",
       "</table>\n",
       "<table class=\"simpletable\">\n",
       "<tr>\n",
       "                 <td></td>                   <th>coef</th>     <th>std err</th>      <th>t</th>      <th>P>|t|</th>  <th>[0.025</th>    <th>0.975]</th>  \n",
       "</tr>\n",
       "<tr>\n",
       "  <th>Intercept</th>                      <td>   -0.0003</td> <td>    0.000</td> <td>   -1.604</td> <td> 0.113</td> <td>   -0.001</td> <td> 7.96e-05</td>\n",
       "</tr>\n",
       "<tr>\n",
       "  <th>lagged_casualties_standardized</th> <td>    0.4288</td> <td>    0.110</td> <td>    3.911</td> <td> 0.000</td> <td>    0.210</td> <td>    0.648</td>\n",
       "</tr>\n",
       "<tr>\n",
       "  <th>log_lagged_commitments</th>         <td> 1.638e-05</td> <td>  1.2e-05</td> <td>    1.370</td> <td> 0.175</td> <td>-7.49e-06</td> <td> 4.03e-05</td>\n",
       "</tr>\n",
       "</table>\n",
       "<table class=\"simpletable\">\n",
       "<tr>\n",
       "  <th>Omnibus:</th>       <td>76.182</td> <th>  Durbin-Watson:     </th> <td>   2.035</td> \n",
       "</tr>\n",
       "<tr>\n",
       "  <th>Prob(Omnibus):</th> <td> 0.000</td> <th>  Jarque-Bera (JB):  </th> <td> 750.060</td> \n",
       "</tr>\n",
       "<tr>\n",
       "  <th>Skew:</th>          <td> 3.167</td> <th>  Prob(JB):          </th> <td>1.34e-163</td>\n",
       "</tr>\n",
       "<tr>\n",
       "  <th>Kurtosis:</th>      <td>17.732</td> <th>  Cond. No.          </th> <td>1.05e+05</td> \n",
       "</tr>\n",
       "</table>"
      ],
      "text/plain": [
       "<class 'statsmodels.iolib.summary.Summary'>\n",
       "\"\"\"\n",
       "                               OLS Regression Results                              \n",
       "===================================================================================\n",
       "Dep. Variable:     casulaties_standardized   R-squared:                       0.219\n",
       "Model:                                 OLS   Adj. R-squared:                  0.196\n",
       "Method:                      Least Squares   F-statistic:                     9.396\n",
       "Date:                     Thu, 12 Jul 2018   Prob (F-statistic):           0.000253\n",
       "Time:                             19:19:22   Log-Likelihood:                 519.56\n",
       "No. Observations:                       70   AIC:                            -1033.\n",
       "Df Residuals:                           67   BIC:                            -1026.\n",
       "Df Model:                                2                                         \n",
       "Covariance Type:                 nonrobust                                         \n",
       "==================================================================================================\n",
       "                                     coef    std err          t      P>|t|      [0.025      0.975]\n",
       "--------------------------------------------------------------------------------------------------\n",
       "Intercept                         -0.0003      0.000     -1.604      0.113      -0.001    7.96e-05\n",
       "lagged_casualties_standardized     0.4288      0.110      3.911      0.000       0.210       0.648\n",
       "log_lagged_commitments          1.638e-05    1.2e-05      1.370      0.175   -7.49e-06    4.03e-05\n",
       "==============================================================================\n",
       "Omnibus:                       76.182   Durbin-Watson:                   2.035\n",
       "Prob(Omnibus):                  0.000   Jarque-Bera (JB):              750.060\n",
       "Skew:                           3.167   Prob(JB):                    1.34e-163\n",
       "Kurtosis:                      17.732   Cond. No.                     1.05e+05\n",
       "==============================================================================\n",
       "\n",
       "Warnings:\n",
       "[1] Standard Errors assume that the covariance matrix of the errors is correctly specified.\n",
       "[2] The condition number is large, 1.05e+05. This might indicate that there are\n",
       "strong multicollinearity or other numerical problems.\n",
       "\"\"\""
      ]
     },
     "execution_count": 11,
     "metadata": {},
     "output_type": "execute_result"
    }
   ],
   "source": [
    "result = sm.ols(formula = 'casulaties_standardized ~ lagged_casualties_standardized + log_lagged_commitments', data = aid_and_conflict).fit()\n",
    "result.summary()"
   ]
  },
  {
   "cell_type": "code",
   "execution_count": 62,
   "metadata": {
    "scrolled": true
   },
   "outputs": [
    {
     "name": "stdout",
     "output_type": "stream",
     "text": [
      "CURRENT GROUP  HR_HA\n",
      "                               OLS Regression Results                              \n",
      "===================================================================================\n",
      "Dep. Variable:     casulaties_standardized   R-squared:                       0.001\n",
      "Model:                                 OLS   Adj. R-squared:                 -0.022\n",
      "Method:                      Least Squares   F-statistic:                   0.03738\n",
      "Date:                     Sun, 08 Jul 2018   Prob (F-statistic):              0.848\n",
      "Time:                             16:23:33   Log-Likelihood:                 367.65\n",
      "No. Observations:                       46   AIC:                            -731.3\n",
      "Df Residuals:                           44   BIC:                            -727.6\n",
      "Df Model:                                1                                         \n",
      "Covariance Type:                 nonrobust                                         \n",
      "======================================================================================\n",
      "                         coef    std err          t      P>|t|      [0.025      0.975]\n",
      "--------------------------------------------------------------------------------------\n",
      "Intercept             -0.0001   1.26e-05     -9.637      0.000      -0.000   -9.58e-05\n",
      "difference_of_logs  1.106e-06   5.72e-06      0.193      0.848   -1.04e-05    1.26e-05\n",
      "==============================================================================\n",
      "Omnibus:                       77.037   Durbin-Watson:                   1.357\n",
      "Prob(Omnibus):                  0.000   Jarque-Bera (JB):              980.911\n",
      "Skew:                           4.396   Prob(JB):                    9.95e-214\n",
      "Kurtosis:                      23.844   Cond. No.                         2.26\n",
      "==============================================================================\n",
      "\n",
      "Warnings:\n",
      "[1] Standard Errors assume that the covariance matrix of the errors is correctly specified.\n",
      "CURRENT GROUP  HR_LA\n"
     ]
    },
    {
     "name": "stderr",
     "output_type": "stream",
     "text": [
      "C:\\Users\\Yurii\\Anaconda3\\lib\\site-packages\\scipy\\stats\\stats.py:1334: UserWarning: kurtosistest only valid for n>=20 ... continuing anyway, n=12\n",
      "  \"anyway, n=%i\" % int(n))\n"
     ]
    },
    {
     "name": "stdout",
     "output_type": "stream",
     "text": [
      "                               OLS Regression Results                              \n",
      "===================================================================================\n",
      "Dep. Variable:     casulaties_standardized   R-squared:                       0.044\n",
      "Model:                                 OLS   Adj. R-squared:                 -0.051\n",
      "Method:                      Least Squares   F-statistic:                    0.4648\n",
      "Date:                     Sun, 08 Jul 2018   Prob (F-statistic):              0.511\n",
      "Time:                             16:23:33   Log-Likelihood:                 107.86\n",
      "No. Observations:                       12   AIC:                            -211.7\n",
      "Df Residuals:                           10   BIC:                            -210.7\n",
      "Df Model:                                1                                         \n",
      "Covariance Type:                 nonrobust                                         \n",
      "======================================================================================\n",
      "                         coef    std err          t      P>|t|      [0.025      0.975]\n",
      "--------------------------------------------------------------------------------------\n",
      "Intercept             -0.0001   1.06e-05    -12.588      0.000      -0.000      -0.000\n",
      "difference_of_logs  5.268e-06   7.73e-06      0.682      0.511   -1.19e-05    2.25e-05\n",
      "==============================================================================\n",
      "Omnibus:                       18.305   Durbin-Watson:                   2.254\n",
      "Prob(Omnibus):                  0.000   Jarque-Bera (JB):               13.261\n",
      "Skew:                           1.973   Prob(JB):                      0.00132\n",
      "Kurtosis:                       6.309   Cond. No.                         1.76\n",
      "==============================================================================\n",
      "\n",
      "Warnings:\n",
      "[1] Standard Errors assume that the covariance matrix of the errors is correctly specified.\n",
      "CURRENT GROUP  LR_HA\n",
      "                               OLS Regression Results                              \n",
      "===================================================================================\n",
      "Dep. Variable:     casulaties_standardized   R-squared:                       0.044\n",
      "Model:                                 OLS   Adj. R-squared:                  0.004\n",
      "Method:                      Least Squares   F-statistic:                     1.107\n",
      "Date:                     Sun, 08 Jul 2018   Prob (F-statistic):              0.303\n",
      "Time:                             16:23:34   Log-Likelihood:                 181.61\n",
      "No. Observations:                       26   AIC:                            -359.2\n",
      "Df Residuals:                           24   BIC:                            -356.7\n",
      "Df Model:                                1                                         \n",
      "Covariance Type:                 nonrobust                                         \n",
      "======================================================================================\n",
      "                         coef    std err          t      P>|t|      [0.025      0.975]\n",
      "--------------------------------------------------------------------------------------\n",
      "Intercept          -2.543e-05   4.76e-05     -0.534      0.598      -0.000    7.28e-05\n",
      "difference_of_logs  2.553e-05   2.43e-05      1.052      0.303   -2.46e-05    7.56e-05\n",
      "==============================================================================\n",
      "Omnibus:                       31.326   Durbin-Watson:                   1.485\n",
      "Prob(Omnibus):                  0.000   Jarque-Bera (JB):               64.027\n",
      "Skew:                           2.497   Prob(JB):                     1.25e-14\n",
      "Kurtosis:                       8.845   Cond. No.                         2.10\n",
      "==============================================================================\n",
      "\n",
      "Warnings:\n",
      "[1] Standard Errors assume that the covariance matrix of the errors is correctly specified.\n",
      "CURRENT GROUP  LR_LA\n"
     ]
    },
    {
     "name": "stderr",
     "output_type": "stream",
     "text": [
      "C:\\Users\\Yurii\\Anaconda3\\lib\\site-packages\\statsmodels\\stats\\stattools.py:72: ValueWarning: omni_normtest is not valid with less than 8 observations; 6 samples were given.\n",
      "  \"samples were given.\" % int(n), ValueWarning)\n"
     ]
    },
    {
     "name": "stdout",
     "output_type": "stream",
     "text": [
      "                               OLS Regression Results                              \n",
      "===================================================================================\n",
      "Dep. Variable:     casulaties_standardized   R-squared:                       0.000\n",
      "Model:                                 OLS   Adj. R-squared:                 -0.249\n",
      "Method:                      Least Squares   F-statistic:                  0.001905\n",
      "Date:                     Sun, 08 Jul 2018   Prob (F-statistic):              0.967\n",
      "Time:                             16:23:34   Log-Likelihood:                 42.147\n",
      "No. Observations:                        6   AIC:                            -80.29\n",
      "Df Residuals:                            4   BIC:                            -80.71\n",
      "Df Model:                                1                                         \n",
      "Covariance Type:                 nonrobust                                         \n",
      "======================================================================================\n",
      "                         coef    std err          t      P>|t|      [0.025      0.975]\n",
      "--------------------------------------------------------------------------------------\n",
      "Intercept            4.95e-05      0.000      0.460      0.670      -0.000       0.000\n",
      "difference_of_logs  -1.33e-06   3.05e-05     -0.044      0.967   -8.59e-05    8.33e-05\n",
      "==============================================================================\n",
      "Omnibus:                          nan   Durbin-Watson:                   1.470\n",
      "Prob(Omnibus):                    nan   Jarque-Bera (JB):                0.967\n",
      "Skew:                           0.973   Prob(JB):                        0.617\n",
      "Kurtosis:                       2.714   Cond. No.                         3.53\n",
      "==============================================================================\n",
      "\n",
      "Warnings:\n",
      "[1] Standard Errors assume that the covariance matrix of the errors is correctly specified.\n"
     ]
    }
   ],
   "source": [
    "four_groups = {'HR_HA': high_receptivity_high_adaptability,\n",
    "               'HR_LA':high_receptivity_low_adaptability,\n",
    "               'LR_HA': low_receptivity_high_adaptability,\n",
    "               'LR_LA': low_receptivity_low_adaptability}\n",
    "\n",
    "\n",
    "def estimate_relationship(aid_group):\n",
    "    region_year_aid = aid_group[['transactions_start_year', 'NAME_1', 'even_split_commitments']].groupby(['NAME_1', 'transactions_start_year']).sum()\n",
    "\n",
    "    region_year_aid = add_lag(region_year_aid, 'even_split_commitments', 'lagged_commitments')\n",
    "\n",
    "    region_year_aid = region_year_aid.rename(columns = {'even_split_commitments': 'commitments', 'transactions_start_year': 'year'})\n",
    "\n",
    "    region_year_aid['commitments_difference'] = region_year_aid['commitments'] - region_year_aid['lagged_commitments']\n",
    "    region_year_aid['log_commitments'] = np.log(region_year_aid['commitments'] )\n",
    "    region_year_aid['log_lagged_commitments'] = np.log(region_year_aid['lagged_commitments'] )\n",
    "    region_year_aid['log_difference'] = np.log(region_year_aid['commitments_difference'] )\n",
    "    region_year_aid['difference_of_logs'] = region_year_aid['log_commitments'] - region_year_aid['log_lagged_commitments']\n",
    "\n",
    "    aid_and_conflict = pd.merge(region_year_aid, region_year_casualties, on = ['NAME_1', 'year'])\n",
    "\n",
    "    result = sm.ols(formula = 'casulaties_standardized ~ difference_of_logs', data = aid_and_conflict).fit()\n",
    "    print(result.summary())\n",
    "    \n",
    "\n",
    "\n",
    "\n",
    "for key, value in four_groups.items():\n",
    "    print('CURRENT GROUP ', key)\n",
    "    estimate_relationship(value)"
   ]
  },
  {
   "cell_type": "code",
   "execution_count": null,
   "metadata": {
    "collapsed": true
   },
   "outputs": [],
   "source": []
  },
  {
   "cell_type": "code",
   "execution_count": 48,
   "metadata": {},
   "outputs": [
    {
     "name": "stderr",
     "output_type": "stream",
     "text": [
      "Auto-assigning NUTS sampler...\n",
      "Initializing NUTS using jitter+adapt_diag...\n",
      "Sequential sampling (2 chains in 1 job)\n",
      "NUTS: [sd_log__, log_lagged_commitments, Intercept]\n",
      "100%|██████████████████████████████████████████████████████████████████████████████| 3500/3500 [09:13<00:00,  6.32it/s]\n",
      "  2%|█▊                                                                              | 80/3500 [00:08<06:22,  8.95it/s]\n",
      "Only one chain was sampled, this makes it impossible to run some convergence checks\n"
     ]
    }
   ],
   "source": [
    "import pymc3 as pm\n",
    "formula = 'casulaties_standardized ~ log_lagged_commitments'\n",
    "\n",
    "with pm.Model() as normal_model:\n",
    "    \n",
    "    # The prior for the data likelihood is a Normal Distribution\n",
    "    family = pm.glm.families.Normal()\n",
    "    \n",
    "    # Creating the model requires a formula and data (and optionally a family)\n",
    "    pm.GLM.from_formula(formula, data = aid_and_conflict, family = family)\n",
    "    \n",
    "    # Perform Markov Chain Monte Carlo sampling letting PyMC3 choose the algorithm\n",
    "    normal_trace = pm.sample(draws=2000, chains = 2, tune = 1500, njobs=-1)\n"
   ]
  },
  {
   "cell_type": "code",
   "execution_count": 49,
   "metadata": {},
   "outputs": [
    {
     "data": {
      "image/png": "[encoded data removed]",
      "text/plain": [
       "<matplotlib.figure.Figure at 0x226f641ae80>"
      ]
     },
     "metadata": {},
     "output_type": "display_data"
    }
   ],
   "source": [
    "pm.traceplot(normal_trace)\n",
    "plt.show()"
   ]
  },
  {
   "cell_type": "code",
   "execution_count": 50,
   "metadata": {},
   "outputs": [
    {
     "data": {
      "image/png": "[encoded data removed]",
      "text/plain": [
       "<matplotlib.figure.Figure at 0x226f59940b8>"
      ]
     },
     "metadata": {},
     "output_type": "display_data"
    }
   ],
   "source": [
    "pm.plot_posterior(normal_trace)\n",
    "plt.show()"
   ]
  },
  {
   "cell_type": "code",
   "execution_count": 51,
   "metadata": {},
   "outputs": [
    {
     "data": {
      "text/html": [
       "<div>\n",
       "<style>\n",
       "    .dataframe thead tr:only-child th {\n",
       "        text-align: right;\n",
       "    }\n",
       "\n",
       "    .dataframe thead th {\n",
       "        text-align: left;\n",
       "    }\n",
       "\n",
       "    .dataframe tbody tr th {\n",
       "        vertical-align: top;\n",
       "    }\n",
       "</style>\n",
       "<table border=\"1\" class=\"dataframe\">\n",
       "  <thead>\n",
       "    <tr style=\"text-align: right;\">\n",
       "      <th></th>\n",
       "      <th>mean</th>\n",
       "      <th>sd</th>\n",
       "      <th>mc_error</th>\n",
       "      <th>hpd_2.5</th>\n",
       "      <th>hpd_97.5</th>\n",
       "    </tr>\n",
       "  </thead>\n",
       "  <tbody>\n",
       "    <tr>\n",
       "      <th>Intercept</th>\n",
       "      <td>-0.000452</td>\n",
       "      <td>0.000240</td>\n",
       "      <td>1.140473e-05</td>\n",
       "      <td>-0.000900</td>\n",
       "      <td>0.000030</td>\n",
       "    </tr>\n",
       "    <tr>\n",
       "      <th>log_lagged_commitments</th>\n",
       "      <td>0.000022</td>\n",
       "      <td>0.000014</td>\n",
       "      <td>6.736635e-07</td>\n",
       "      <td>-0.000006</td>\n",
       "      <td>0.000049</td>\n",
       "    </tr>\n",
       "    <tr>\n",
       "      <th>sd</th>\n",
       "      <td>0.000165</td>\n",
       "      <td>0.000015</td>\n",
       "      <td>4.853302e-07</td>\n",
       "      <td>0.000138</td>\n",
       "      <td>0.000195</td>\n",
       "    </tr>\n",
       "  </tbody>\n",
       "</table>\n",
       "</div>"
      ],
      "text/plain": [
       "                            mean        sd      mc_error   hpd_2.5  hpd_97.5\n",
       "Intercept              -0.000452  0.000240  1.140473e-05 -0.000900  0.000030\n",
       "log_lagged_commitments  0.000022  0.000014  6.736635e-07 -0.000006  0.000049\n",
       "sd                      0.000165  0.000015  4.853302e-07  0.000138  0.000195"
      ]
     },
     "execution_count": 51,
     "metadata": {},
     "output_type": "execute_result"
    }
   ],
   "source": [
    "pm.summary(normal_trace)"
   ]
  },
  {
   "cell_type": "code",
   "execution_count": 82,
   "metadata": {
    "scrolled": true
   },
   "outputs": [
    {
     "name": "stdout",
     "output_type": "stream",
     "text": [
      "HR_HA\n"
     ]
    },
    {
     "name": "stderr",
     "output_type": "stream",
     "text": [
      "Auto-assigning NUTS sampler...\n",
      "Initializing NUTS using jitter+adapt_diag...\n",
      "Sequential sampling (2 chains in 1 job)\n",
      "NUTS: [sd_log__, difference_of_logs, Intercept]\n",
      "100%|██████████████████████████████████████████████████████████████████████████████| 4000/4000 [01:37<00:00, 41.22it/s]\n",
      "100%|██████████████████████████████████████████████████████████████████████████████| 4000/4000 [01:45<00:00, 37.93it/s]\n"
     ]
    },
    {
     "name": "stdout",
     "output_type": "stream",
     "text": [
      "                        mean        sd      mc_error   hpd_2.5  hpd_97.5  \\\n",
      "Intercept          -0.000121  0.000013  1.590333e-07 -0.000148 -0.000096   \n",
      "difference_of_logs  0.000001  0.000006  7.676552e-08 -0.000010  0.000013   \n",
      "sd                  0.000086  0.000009  1.442603e-07  0.000069  0.000106   \n",
      "\n",
      "                          n_eff      Rhat  \n",
      "Intercept           6533.256097  0.999830  \n",
      "difference_of_logs  5905.064908  0.999870  \n",
      "sd                  4652.592855  0.999824  \n",
      "HR_LA\n"
     ]
    },
    {
     "name": "stderr",
     "output_type": "stream",
     "text": [
      "Auto-assigning NUTS sampler...\n",
      "Initializing NUTS using jitter+adapt_diag...\n",
      "Sequential sampling (2 chains in 1 job)\n",
      "NUTS: [sd_log__, difference_of_logs, Intercept]\n",
      "100%|██████████████████████████████████████████████████████████████████████████████| 4000/4000 [00:58<00:00, 68.29it/s]\n",
      "100%|██████████████████████████████████████████████████████████████████████████████| 4000/4000 [00:47<00:00, 84.26it/s]\n"
     ]
    },
    {
     "name": "stdout",
     "output_type": "stream",
     "text": [
      "                        mean        sd      mc_error   hpd_2.5  hpd_97.5  \\\n",
      "Intercept          -0.000133  0.000013  2.197596e-07 -0.000157 -0.000108   \n",
      "difference_of_logs  0.000006  0.000009  1.635374e-07 -0.000012  0.000023   \n",
      "sd                  0.000038  0.000011  1.902995e-07  0.000022  0.000059   \n",
      "\n",
      "                          n_eff      Rhat  \n",
      "Intercept           2896.755109  1.000027  \n",
      "difference_of_logs  3011.525060  1.000140  \n",
      "sd                  2398.400965  0.999891  \n",
      "LR_HA\n"
     ]
    },
    {
     "name": "stderr",
     "output_type": "stream",
     "text": [
      "Auto-assigning NUTS sampler...\n",
      "Initializing NUTS using jitter+adapt_diag...\n",
      "Sequential sampling (2 chains in 1 job)\n",
      "NUTS: [sd_log__, difference_of_logs, Intercept]\n",
      "100%|██████████████████████████████████████████████████████████████████████████████| 4000/4000 [01:04<00:00, 62.05it/s]\n",
      "100%|██████████████████████████████████████████████████████████████████████████████| 4000/4000 [00:51<00:00, 77.94it/s]\n"
     ]
    },
    {
     "name": "stdout",
     "output_type": "stream",
     "text": [
      "                        mean        sd      mc_error   hpd_2.5  hpd_97.5  \\\n",
      "Intercept          -0.000025  0.000052  7.268069e-07 -0.000122  0.000083   \n",
      "difference_of_logs  0.000026  0.000026  4.124773e-07 -0.000026  0.000077   \n",
      "sd                  0.000248  0.000038  5.979740e-07  0.000178  0.000326   \n",
      "\n",
      "                          n_eff      Rhat  \n",
      "Intercept           3805.687130  0.999860  \n",
      "difference_of_logs  3654.254389  0.999814  \n",
      "sd                  4322.206846  0.999878  \n",
      "LR_LA\n"
     ]
    },
    {
     "name": "stderr",
     "output_type": "stream",
     "text": [
      "Auto-assigning NUTS sampler...\n",
      "Initializing NUTS using jitter+adapt_diag...\n",
      "Sequential sampling (2 chains in 1 job)\n",
      "NUTS: [sd_log__, difference_of_logs, Intercept]\n",
      "100%|█████████████████████████████████████████████████████████████████████████████| 4000/4000 [00:35<00:00, 111.76it/s]\n",
      "100%|██████████████████████████████████████████████████████████████████████████████| 4000/4000 [00:40<00:00, 99.09it/s]\n",
      "There were 7 divergences after tuning. Increase `target_accept` or reparameterize.\n",
      "The acceptance probability does not match the target. It is 0.631078756988, but should be close to 0.8. Try to increase the number of tuning steps.\n",
      "There were 7 divergences after tuning. Increase `target_accept` or reparameterize.\n"
     ]
    },
    {
     "name": "stdout",
     "output_type": "stream",
     "text": [
      "                        mean        sd  mc_error   hpd_2.5  hpd_97.5  \\\n",
      "Intercept           0.000045  0.000183  0.000003 -0.000330  0.000413   \n",
      "difference_of_logs -0.000003  0.000050  0.000001 -0.000099  0.000102   \n",
      "sd                  0.000403  0.000238  0.000007  0.000139  0.000853   \n",
      "\n",
      "                          n_eff      Rhat  \n",
      "Intercept           2855.369327  0.999882  \n",
      "difference_of_logs  1994.074473  0.999825  \n",
      "sd                  1335.410814  0.999989  \n"
     ]
    }
   ],
   "source": [
    "formula = 'casulaties_standardized ~ difference_of_logs'\n",
    "\n",
    "def estimate_relationship(aid_group):\n",
    "    region_year_aid = aid_group[['transactions_start_year', 'NAME_1', 'even_split_commitments']].groupby(['NAME_1', 'transactions_start_year']).sum()\n",
    "\n",
    "    region_year_aid = add_lag(region_year_aid, 'even_split_commitments', 'lagged_commitments')\n",
    "\n",
    "    region_year_aid = region_year_aid.rename(columns = {'even_split_commitments': 'commitments', 'transactions_start_year': 'year'})\n",
    "\n",
    "    region_year_aid['commitments_difference'] = region_year_aid['commitments'] - region_year_aid['lagged_commitments']\n",
    "    region_year_aid['log_commitments'] = np.log(region_year_aid['commitments'] )\n",
    "    region_year_aid['log_lagged_commitments'] = np.log(region_year_aid['lagged_commitments'] )\n",
    "    region_year_aid['log_difference'] = np.log(region_year_aid['commitments_difference'] )\n",
    "    region_year_aid['difference_of_logs'] = region_year_aid['log_commitments'] - region_year_aid['log_lagged_commitments']\n",
    "\n",
    "    aid_and_conflict = pd.merge(region_year_aid, region_year_casualties, on = ['NAME_1', 'year'])\n",
    "\n",
    "    with pm.Model() as normal_model:\n",
    "\n",
    "        # The prior for the data likelihood is a Normal Distribution\n",
    "        family = pm.glm.families.Normal()\n",
    "\n",
    "        # Creating the model requires a formula and data (and optionally a family)\n",
    "        pm.GLM.from_formula(formula, data = aid_and_conflict, family = family)\n",
    "\n",
    "        # Perform Markov Chain Monte Carlo sampling letting PyMC3 choose the algorithm\n",
    "        normal_trace = pm.sample(draws=2000, chains = 2, tune = 1500, njobs=-1)\n",
    "    \n",
    "    print(pm.summary(normal_trace))\n",
    "\n",
    "for key, value in four_groups.items():\n",
    "    print(key)\n",
    "    estimate_relationship(value)"
   ]
  },
  {
   "cell_type": "code",
   "execution_count": null,
   "metadata": {
    "collapsed": true
   },
   "outputs": [],
   "source": [
    "# TODO LIST\n",
    "\n",
    "# 3. Select projects based on the 4 subcategories derived above.\n",
    "# Projects with: donor is in one of the first classification group.\n",
    "# Start year and area is in one of the second classification groups.\n",
    "\n",
    "#                        High adaptability              Low adaptability\n",
    "#\n",
    "# High receptivity           n                                 n2\n",
    "#\n",
    "# Low receptivity            n3                                n4\n",
    "\n",
    "\n",
    "\n",
    "# 4. THINK ABOUT INFERENCE PROBLEM, MATCHING PROBLEM, CREATING CONTROL AND TREATMENT GROUPS."
   ]
  },
  {
   "cell_type": "code",
   "execution_count": null,
   "metadata": {
    "collapsed": true
   },
   "outputs": [],
   "source": []
  },
  {
   "cell_type": "code",
   "execution_count": null,
   "metadata": {
    "collapsed": true
   },
   "outputs": [],
   "source": []
  },
  {
   "cell_type": "code",
   "execution_count": null,
   "metadata": {
    "collapsed": true
   },
   "outputs": [],
   "source": []
  },
  {
   "cell_type": "code",
   "execution_count": null,
   "metadata": {
    "collapsed": true
   },
   "outputs": [],
   "source": []
  },
  {
   "cell_type": "code",
   "execution_count": null,
   "metadata": {
    "collapsed": true
   },
   "outputs": [],
   "source": []
  },
  {
   "cell_type": "code",
   "execution_count": null,
   "metadata": {
    "collapsed": true
   },
   "outputs": [],
   "source": []
  },
  {
   "cell_type": "code",
   "execution_count": null,
   "metadata": {
    "collapsed": true
   },
   "outputs": [],
   "source": []
  },
  {
   "cell_type": "code",
   "execution_count": null,
   "metadata": {
    "collapsed": true
   },
   "outputs": [],
   "source": []
  },
  {
   "cell_type": "code",
   "execution_count": null,
   "metadata": {
    "collapsed": true
   },
   "outputs": [],
   "source": []
  },
  {
   "cell_type": "code",
   "execution_count": null,
   "metadata": {
    "collapsed": true
   },
   "outputs": [],
   "source": []
  },
  {
   "cell_type": "code",
   "execution_count": null,
   "metadata": {
    "collapsed": true
   },
   "outputs": [],
   "source": []
  },
  {
   "cell_type": "code",
   "execution_count": null,
   "metadata": {
    "collapsed": true
   },
   "outputs": [],
   "source": []
  },
  {
   "cell_type": "code",
   "execution_count": null,
   "metadata": {
    "collapsed": true
   },
   "outputs": [],
   "source": []
  },
  {
   "cell_type": "code",
   "execution_count": null,
   "metadata": {
    "collapsed": true
   },
   "outputs": [],
   "source": []
  },
  {
   "cell_type": "code",
   "execution_count": null,
   "metadata": {
    "collapsed": true
   },
   "outputs": [],
   "source": []
  },
  {
   "cell_type": "code",
   "execution_count": null,
   "metadata": {
    "collapsed": true
   },
   "outputs": [],
   "source": []
  },
  {
   "cell_type": "code",
   "execution_count": 296,
   "metadata": {
    "collapsed": true
   },
   "outputs": [],
   "source": [
    "drc = pd.read_excel('Data\\\\south_of_sahara\\\\DRC_Conflict_27June2012.xlsx', header = 0, index_col = 0)\n",
    "uganda = pd.read_excel('Data\\\\south_of_sahara\\\\Uganda_Conflict_27June2012.xlsx', header = 0, index_col = 0)\n",
    "ethiopia = pd.read_excel('Data\\\\south_of_sahara\\\\Ethiopia_Conflict_27June2012.xlsx', header = 0, index_col = 0)\n",
    "sudan = pd.read_excel('Data\\\\south_of_sahara\\\\Sudan_Conflict_27June2012.xlsx', header = 0, index_col = 0)\n",
    "burundi = pd.read_excel('Data\\\\south_of_sahara\\\\Burundi_Conflict_20June2012.xlsx', header = 0, index_col = 0)\n",
    "\n",
    "ethiopia.drop(ethiopia[ethiopia['precision'] == '.'].index, inplace = True)\n",
    "burundi.drop(burundi[burundi['precision'] == '        .'].index, inplace = True)\n",
    "\n",
    "\n",
    "drc_provinces = gpd.read_file('Data\\\\Shapefiles\\\\DRC\\\\gadm36_COD_1.shp')\n",
    "uganda_provinces = gpd.read_file('Data\\\\Shapefiles\\\\Uganda\\\\gadm36_UGA_1.shp')\n",
    "ethiopia_provinces = gpd.read_file('Data\\\\Shapefiles\\\\Ethiopia\\\\gadm36_ETH_1.shp')\n",
    "sudan_provinces = gpd.read_file('Data\\\\Shapefiles\\\\Sudan\\\\gadm36_SDN_1.shp')\n",
    "burundi_provinces = gpd.read_file('Data\\\\Shapefiles\\\\Burundi\\\\gadm36_BDI_1.shp')\n",
    "\n",
    "drc = drc[drc['precision'] <=6]\n",
    "uganda = uganda[uganda['precision'] <=6]\n",
    "ethiopia = ethiopia[ethiopia['precision'] <=6]\n",
    "sudan = sudan[sudan['precision'] <=6]\n",
    "burundi = burundi[burundi['precision'] <=6]\n",
    "\n",
    "#sudan['long'] = sudan['long'].astype(float)"
   ]
  },
  {
   "cell_type": "code",
   "execution_count": 297,
   "metadata": {
    "collapsed": true
   },
   "outputs": [],
   "source": [
    "def recode_commitments(df):\n",
    "    \"\"\"\n",
    "        Commitments are coded for for all locations within a project. \n",
    "        To arrive at an average per location divide the value over numbloc\n",
    "    \"\"\"\n",
    "    df['usdcr'] = df['usdcr'] / df['numbloc']\n",
    "    df['usdco'] = df['usdco'] / df['numbloc']\n",
    "    return df\n",
    "\n",
    "def geocode(df, provinces):\n",
    "    geometry = [Point(xy) for xy in zip(df.long, df.lat)]\n",
    "    gdf = gpd.GeoDataFrame(df, crs = {'init': 'epsg:4326'}, geometry = geometry)\n",
    "    gaid = gpd.sjoin(gdf, provinces, how=\"inner\")\n",
    "    return gaid"
   ]
  },
  {
   "cell_type": "code",
   "execution_count": 298,
   "metadata": {
    "collapsed": true
   },
   "outputs": [],
   "source": [
    "countries = [drc, uganda, ethiopia, sudan, burundi]\n",
    "provinces = [drc_provinces, uganda_provinces, ethiopia_provinces, sudan_provinces, burundi_provinces]\n",
    "geoaid = [geocode(country, province) for country, province in zip(countries, provinces)]\n",
    "geoaid = list(map(recode_commitments, geoaid))\n",
    "\n",
    "geoaid_df = pd.DataFrame()\n",
    "for country in geoaid:\n",
    "    geoaid_df = geoaid_df.append(country)"
   ]
  },
  {
   "cell_type": "code",
   "execution_count": 271,
   "metadata": {
    "collapsed": true
   },
   "outputs": [],
   "source": [
    "def add_lag(df, column_name, new_name):\n",
    "    output = pd.DataFrame()\n",
    "    df[new_name] = df.groupby(level = 0)[column_name].shift(1)\n",
    "    by_country = df.groupby(level = 0)\n",
    "    for name, group in by_country:\n",
    "        country = group.reset_index()\n",
    "        last_row = country.iloc[-1, :]\n",
    "        temp = copy.deepcopy(last_row)\n",
    "        temp['year'] += 1\n",
    "        temp['usdcr_lagged'] = temp['usdcr']\n",
    "        temp['usdcr'] = np.nan\n",
    "\n",
    "        country = country.append(temp, ignore_index = True)\n",
    "        output = output.append(country)\n",
    "    return output"
   ]
  },
  {
   "cell_type": "code",
   "execution_count": 273,
   "metadata": {},
   "outputs": [],
   "source": [
    "lagged_geoaid = pd.DataFrame()\n",
    "for country in geoaid:\n",
    "    lagged_geoaid = lagged_geoaid.append(add_lag(country[['year', 'NAME_1', 'usdcr']].groupby(['NAME_1', 'year']).sum(), 'usdcr', 'usdcr_lagged'))\n",
    "lagged_geoaid = lagged_geoaid[lagged_geoaid['year'] >= 1999]"
   ]
  },
  {
   "cell_type": "code",
   "execution_count": 250,
   "metadata": {
    "collapsed": true,
    "scrolled": true
   },
   "outputs": [],
   "source": [
    "aggredate_conflict = pd.read_csv('Data\\\\conflict_data\\\\gedevents-2018-07-13.csv', header = 0, index_col = 0)\n",
    "geometry = [Point(xy) for xy in zip(aggredate_conflict.longitude, aggredate_conflict.latitude)]\n",
    "aggredate_conflict = gpd.GeoDataFrame(aggredate_conflict, crs = {'init': 'epsg:4326'}, geometry = geometry)"
   ]
  },
  {
   "cell_type": "code",
   "execution_count": 251,
   "metadata": {
    "collapsed": true
   },
   "outputs": [],
   "source": [
    "temp = pd.DataFrame()\n",
    "for name, group in aggredate_conflict.groupby('country'):\n",
    "    \n",
    "    if name == 'burundi':\n",
    "        group = gpd.sjoin(group, burundi_provinces, how=\"inner\")\n",
    "        \n",
    "    elif name == 'DR Congo (Zaire)':\n",
    "        group = gpd.sjoin(group, drc_provinces, how=\"inner\")\n",
    "            \n",
    "    elif name == 'Ethiopia':\n",
    "        group = gpd.sjoin(group, ethiopia_provinces, how=\"inner\")\n",
    "            \n",
    "    elif name == 'Sudan':\n",
    "        group = gpd.sjoin(group, sudan_provinces, how=\"inner\")\n",
    "        \n",
    "    elif name == 'Uganda':\n",
    "        group = gpd.sjoin(group, uganda_provinces, how=\"inner\")\n",
    "    \n",
    "    temp = temp.append(group)\n",
    "    aggredate_conflict = temp"
   ]
  },
  {
   "cell_type": "code",
   "execution_count": 24,
   "metadata": {
    "collapsed": true
   },
   "outputs": [],
   "source": [
    "aggredate_conflict = aggredate_conflict.drop(aggredate_conflict[aggredate_conflict['NAME_1'].isnull()].index)\n",
    "aggregate_region_year_casualties = aggredate_conflict[['year', 'NAME_1', 'best_est']].groupby(['NAME_1', 'year']).sum()\n",
    "aggregate_region_year_casualties = aggregate_region_year_casualties.reset_index()"
   ]
  },
  {
   "cell_type": "code",
   "execution_count": 25,
   "metadata": {
    "collapsed": true,
    "scrolled": true
   },
   "outputs": [],
   "source": [
    "aid_and_conflict = pd.merge(aggregate_region_year_casualties, lagged_geoaid, on = ['NAME_1', 'year'])"
   ]
  },
  {
   "cell_type": "code",
   "execution_count": 26,
   "metadata": {
    "collapsed": true
   },
   "outputs": [],
   "source": [
    "aid_and_conflict['lagged_commitments'] = np.log(aid_and_conflict['usdcr_lagged'])"
   ]
  },
  {
   "cell_type": "code",
   "execution_count": 27,
   "metadata": {},
   "outputs": [
    {
     "data": {
      "text/html": [
       "<table class=\"simpletable\">\n",
       "<caption>OLS Regression Results</caption>\n",
       "<tr>\n",
       "  <th>Dep. Variable:</th>        <td>best_est</td>     <th>  R-squared:         </th> <td>   0.003</td>\n",
       "</tr>\n",
       "<tr>\n",
       "  <th>Model:</th>                   <td>OLS</td>       <th>  Adj. R-squared:    </th> <td>  -0.000</td>\n",
       "</tr>\n",
       "<tr>\n",
       "  <th>Method:</th>             <td>Least Squares</td>  <th>  F-statistic:       </th> <td>  0.8690</td>\n",
       "</tr>\n",
       "<tr>\n",
       "  <th>Date:</th>             <td>Sun, 15 Jul 2018</td> <th>  Prob (F-statistic):</th>  <td> 0.352</td> \n",
       "</tr>\n",
       "<tr>\n",
       "  <th>Time:</th>                 <td>00:03:25</td>     <th>  Log-Likelihood:    </th> <td> -2438.8</td>\n",
       "</tr>\n",
       "<tr>\n",
       "  <th>No. Observations:</th>      <td>   322</td>      <th>  AIC:               </th> <td>   4882.</td>\n",
       "</tr>\n",
       "<tr>\n",
       "  <th>Df Residuals:</th>          <td>   320</td>      <th>  BIC:               </th> <td>   4889.</td>\n",
       "</tr>\n",
       "<tr>\n",
       "  <th>Df Model:</th>              <td>     1</td>      <th>                     </th>     <td> </td>   \n",
       "</tr>\n",
       "<tr>\n",
       "  <th>Covariance Type:</th>      <td>nonrobust</td>    <th>                     </th>     <td> </td>   \n",
       "</tr>\n",
       "</table>\n",
       "<table class=\"simpletable\">\n",
       "<tr>\n",
       "        <td></td>          <th>coef</th>     <th>std err</th>      <th>t</th>      <th>P>|t|</th>  <th>[0.025</th>    <th>0.975]</th>  \n",
       "</tr>\n",
       "<tr>\n",
       "  <th>Intercept</th>    <td>  187.4521</td> <td>   28.921</td> <td>    6.481</td> <td> 0.000</td> <td>  130.552</td> <td>  244.352</td>\n",
       "</tr>\n",
       "<tr>\n",
       "  <th>usdcr_lagged</th> <td>-7.142e-07</td> <td> 7.66e-07</td> <td>   -0.932</td> <td> 0.352</td> <td>-2.22e-06</td> <td> 7.93e-07</td>\n",
       "</tr>\n",
       "</table>\n",
       "<table class=\"simpletable\">\n",
       "<tr>\n",
       "  <th>Omnibus:</th>       <td>451.584</td> <th>  Durbin-Watson:     </th> <td>   1.160</td> \n",
       "</tr>\n",
       "<tr>\n",
       "  <th>Prob(Omnibus):</th> <td> 0.000</td>  <th>  Jarque-Bera (JB):  </th> <td>54430.649</td>\n",
       "</tr>\n",
       "<tr>\n",
       "  <th>Skew:</th>          <td> 6.869</td>  <th>  Prob(JB):          </th> <td>    0.00</td> \n",
       "</tr>\n",
       "<tr>\n",
       "  <th>Kurtosis:</th>      <td>65.195</td>  <th>  Cond. No.          </th> <td>4.15e+07</td> \n",
       "</tr>\n",
       "</table>"
      ],
      "text/plain": [
       "<class 'statsmodels.iolib.summary.Summary'>\n",
       "\"\"\"\n",
       "                            OLS Regression Results                            \n",
       "==============================================================================\n",
       "Dep. Variable:               best_est   R-squared:                       0.003\n",
       "Model:                            OLS   Adj. R-squared:                 -0.000\n",
       "Method:                 Least Squares   F-statistic:                    0.8690\n",
       "Date:                Sun, 15 Jul 2018   Prob (F-statistic):              0.352\n",
       "Time:                        00:03:25   Log-Likelihood:                -2438.8\n",
       "No. Observations:                 322   AIC:                             4882.\n",
       "Df Residuals:                     320   BIC:                             4889.\n",
       "Df Model:                           1                                         \n",
       "Covariance Type:            nonrobust                                         \n",
       "================================================================================\n",
       "                   coef    std err          t      P>|t|      [0.025      0.975]\n",
       "--------------------------------------------------------------------------------\n",
       "Intercept      187.4521     28.921      6.481      0.000     130.552     244.352\n",
       "usdcr_lagged -7.142e-07   7.66e-07     -0.932      0.352   -2.22e-06    7.93e-07\n",
       "==============================================================================\n",
       "Omnibus:                      451.584   Durbin-Watson:                   1.160\n",
       "Prob(Omnibus):                  0.000   Jarque-Bera (JB):            54430.649\n",
       "Skew:                           6.869   Prob(JB):                         0.00\n",
       "Kurtosis:                      65.195   Cond. No.                     4.15e+07\n",
       "==============================================================================\n",
       "\n",
       "Warnings:\n",
       "[1] Standard Errors assume that the covariance matrix of the errors is correctly specified.\n",
       "[2] The condition number is large, 4.15e+07. This might indicate that there are\n",
       "strong multicollinearity or other numerical problems.\n",
       "\"\"\""
      ]
     },
     "execution_count": 27,
     "metadata": {},
     "output_type": "execute_result"
    }
   ],
   "source": [
    "result = sm.ols(formula = 'best_est ~ usdcr_lagged', data = aid_and_conflict).fit()\n",
    "result.summary()"
   ]
  },
  {
   "cell_type": "code",
   "execution_count": null,
   "metadata": {
    "collapsed": true
   },
   "outputs": [],
   "source": []
  },
  {
   "cell_type": "code",
   "execution_count": 312,
   "metadata": {
    "collapsed": true
   },
   "outputs": [],
   "source": [
    "def plot_distances_new(year, aid_df):\n",
    "    min_dists = []\n",
    "    for aid_project in aid_df[aid_df['year'] == year]['geometry']:\n",
    "        min_dists.append(min(aggredate_conflict[aggredate_conflict['year'] == year + 1]['geometry'].distance(aid_project)))\n",
    "    \n",
    "    min_dists = pd.Series(min_dists) * 110\n",
    "    \n",
    "    #min_dists.plot.density()\n",
    "    \n",
    "    #plt.show()\n",
    "    #print(min_dists.mean())\n",
    "    #print(min_dists.median())\n",
    "    return min_dists"
   ]
  },
  {
   "cell_type": "code",
   "execution_count": null,
   "metadata": {
    "collapsed": true
   },
   "outputs": [],
   "source": []
  },
  {
   "cell_type": "code",
   "execution_count": 323,
   "metadata": {},
   "outputs": [
    {
     "name": "stdout",
     "output_type": "stream",
     "text": [
      "Democratic Republic of the Congo\n"
     ]
    },
    {
     "data": {
      "image/png": "[encoded data removed]",
      "text/plain": [
       "<matplotlib.figure.Figure at 0x24758c532b0>"
      ]
     },
     "metadata": {},
     "output_type": "display_data"
    },
    {
     "name": "stdout",
     "output_type": "stream",
     "text": [
      "205.39638300230249\n",
      "91.21733184317328\n",
      "Uganda\n"
     ]
    },
    {
     "data": {
      "image/png": "[encoded data removed]",
      "text/plain": [
       "<matplotlib.figure.Figure at 0x24758cb5550>"
      ]
     },
     "metadata": {},
     "output_type": "display_data"
    },
    {
     "name": "stdout",
     "output_type": "stream",
     "text": [
      "81.45626878072682\n",
      "66.81789257254997\n",
      "Ethiopia\n"
     ]
    },
    {
     "data": {
      "image/png": "[encoded data removed]",
      "text/plain": [
       "<matplotlib.figure.Figure at 0x24757488be0>"
      ]
     },
     "metadata": {},
     "output_type": "display_data"
    },
    {
     "name": "stdout",
     "output_type": "stream",
     "text": [
      "149.72028865288738\n",
      "91.60891488879726\n",
      "Sudan\n"
     ]
    },
    {
     "data": {
      "image/png": "[encoded data removed]",
      "text/plain": [
       "<matplotlib.figure.Figure at 0x24758e29da0>"
      ]
     },
     "metadata": {},
     "output_type": "display_data"
    },
    {
     "name": "stdout",
     "output_type": "stream",
     "text": [
      "197.3108080269091\n",
      "55.0\n",
      "Burundi\n"
     ]
    },
    {
     "data": {
      "image/png": "[encoded data removed]",
      "text/plain": [
       "<matplotlib.figure.Figure at 0x24758f9bf28>"
      ]
     },
     "metadata": {},
     "output_type": "display_data"
    },
    {
     "name": "stdout",
     "output_type": "stream",
     "text": [
      "15.976187656922484\n",
      "2.8241094171438212\n"
     ]
    }
   ],
   "source": [
    "for country in geoaid:\n",
    "    print(country['NAME_0'].iloc[0])\n",
    "    country_dist = pd.Series()\n",
    "    for year in range(1999, 2009):\n",
    "        country_dist = country_dist.append(plot_distances_new(year, country))\n",
    "    \n",
    "    \n",
    "    country_dist.plot.density()\n",
    "    plt.show()\n",
    "    print(country_dist.mean())\n",
    "    print(country_dist.median())"
   ]
  },
  {
   "cell_type": "code",
   "execution_count": 316,
   "metadata": {},
   "outputs": [
    {
     "data": {
      "text/plain": [
       "2007    519\n",
       "2006    419\n",
       "2005    323\n",
       "2004    252\n",
       "2003    235\n",
       "2002    210\n",
       "2001    172\n",
       "2000    125\n",
       "1998     93\n",
       "1997     77\n",
       "1996     36\n",
       "2008     30\n",
       "1999     28\n",
       "Name: year, dtype: int64"
      ]
     },
     "execution_count": 316,
     "metadata": {},
     "output_type": "execute_result"
    }
   ],
   "source": [
    "geoaid[0]['year'].value_counts()"
   ]
  },
  {
   "cell_type": "code",
   "execution_count": 320,
   "metadata": {},
   "outputs": [
    {
     "data": {
      "text/plain": [
       "'Democratic Republic of the Congo'"
      ]
     },
     "execution_count": 320,
     "metadata": {},
     "output_type": "execute_result"
    }
   ],
   "source": [
    "geoaid[0]['NAME_0'].iloc[0]"
   ]
  },
  {
   "cell_type": "code",
   "execution_count": null,
   "metadata": {
    "collapsed": true
   },
   "outputs": [],
   "source": []
  }
 ],
 "metadata": {
  "kernelspec": {
   "display_name": "Python 3",
   "language": "python",
   "name": "python3"
  },
  "language_info": {
   "codemirror_mode": {
    "name": "ipython",
    "version": 3
   },
   "file_extension": ".py",
   "mimetype": "text/x-python",
   "name": "python",
   "nbconvert_exporter": "python",
   "pygments_lexer": "ipython3",
   "version": "3.6.3"
  }
 },
 "nbformat": 4,
 "nbformat_minor": 2
}

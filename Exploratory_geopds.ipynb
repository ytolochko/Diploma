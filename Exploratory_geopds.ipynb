{
 "cells": [
  {
   "cell_type": "code",
   "execution_count": 1,
   "metadata": {
    "collapsed": true
   },
   "outputs": [],
   "source": [
    "import numpy as np\n",
    "import geopandas as gpd\n",
    "from shapely.geometry import Point\n",
    "import pandas as pd\n",
    "import re as re\n",
    "import os\n",
    "import copy"
   ]
  },
  {
   "cell_type": "code",
   "execution_count": 2,
   "metadata": {
    "collapsed": true
   },
   "outputs": [],
   "source": [
    "conflict = pd.read_csv('Data\\\\conflict_data\\\\DRC_2.csv', header = 0, index_col = 0)\n",
    "\n",
    "aid = pd.read_csv('Data\\\\aid_data\\\\data\\\\level_1a.csv')\n",
    "aid = aid.dropna(subset=['latitude', 'longitude']) # drop those entries that don't have coordinates to them\n",
    "\n",
    "provinces = gpd.read_file('C:\\\\Users\\\\Yurii\\\\Desktop\\\\Konstanz stuff\\\\Diploma\\\\Data\\\\gadm36_COD_shp/gadm36_COD_1.shp')"
   ]
  },
  {
   "cell_type": "code",
   "execution_count": 3,
   "metadata": {
    "collapsed": true
   },
   "outputs": [],
   "source": [
    "geometry = [Point(xy) for xy in zip(conflict.longitude, conflict.latitude)]\n",
    "gconflict = gpd.GeoDataFrame(conflict, crs = {'init': 'epsg:4326'}, geometry = geometry)\n",
    "\n",
    "geometry = [Point(xy) for xy in zip(aid.longitude, aid.latitude)]\n",
    "gaid = gpd.GeoDataFrame(aid, crs = {'init': 'epsg:4326'}, geometry = geometry)\n",
    "\n",
    "gconflict = gpd.sjoin(gconflict, provinces, how=\"inner\", op='intersects')\n",
    "gaid = gpd.sjoin(gaid, provinces, how=\"inner\")"
   ]
  },
  {
   "cell_type": "code",
   "execution_count": 4,
   "metadata": {
    "collapsed": true
   },
   "outputs": [],
   "source": [
    "# calculate the number of rows there column_name has more than one entry, separated by \"|\". We use this for donors and aid focus. \n",
    "def calc_multiples(df, column_name):\n",
    "    s = 0\n",
    "    l = []\n",
    "    for index, row in df.iterrows():\n",
    "        entries = row[column_name].split(\"|\")\n",
    "        if len(entries) > 1:\n",
    "            s += 1\n",
    "            l.append(index)\n",
    "    return s#, l\n",
    "# split those rows that have more than one entry in a certain column name.\n",
    "# We create a new row for each of the multiple entries (other entries being the same)\n",
    "# and delete the original multiple entry row. \n",
    "def split_rows(data, column_name):\n",
    "    df = copy.deepcopy(data)\n",
    "    temp = pd.DataFrame()\n",
    "    for index, row in df.iterrows():\n",
    "        entries = row[column_name].split(\"|\")\n",
    "        if len(entries) > 1:\n",
    "            for entry in entries:\n",
    "                temp_row = row\n",
    "                temp_row[column_name] = entry\n",
    "                temp = temp.append(temp_row)\n",
    "            df.drop(index, inplace = True)\n",
    "            \n",
    "    return df.append(temp)\n",
    "\n",
    "# split the rows(projects) that have more than one donor per project\n",
    "gaid = split_rows(gaid, 'donors')\n",
    "gaid = split_rows(gaid, 'ad_sector_names')"
   ]
  },
  {
   "cell_type": "code",
   "execution_count": 148,
   "metadata": {
    "collapsed": true
   },
   "outputs": [],
   "source": [
    "if not os.path.exists('measures_indices'):\n",
    "    os.makedirs('measures_indices')\n",
    "    \n",
    "# how many projects there are per donor and their share in the total, save in a csv file  \n",
    "total = gaid['donors'].value_counts() # total N of projects per donor\n",
    "share = gaid['donors'].value_counts() / gaid.shape[0] # calculate share of the projects per donor in total N of projects\n",
    "pd.concat([total, share], axis = 1).to_csv('measures_indices\\\\N_projects_per_donor.csv')\n",
    "\n",
    "# what share of projects per donor have multiple focus sectors (e.g. General environmental protection|Transport and storage)\n",
    "multiple_focus_share = (gaid.groupby('donors').apply(calc_multiples, 'ad_sector_names') / gaid['donors'].value_counts())\n",
    "multiple_focus_share.to_csv('measures_indices\\\\project_multiple_sectors.csv')\n",
    "\n",
    "# share of each project focus in the total number of projects per donor. We use this to calculate variablity of project focus for a donor\n",
    "focus_share = (gaid.groupby(['donors', 'ad_sector_names']).size() / gaid.groupby(['donors']).size())\n",
    "focus_share.to_csv('measures_indices\\\\donor_sector_share.csv')"
   ]
  },
  {
   "cell_type": "code",
   "execution_count": 63,
   "metadata": {
    "collapsed": true
   },
   "outputs": [],
   "source": [
    "# Func calculates the coefficient of unalikeability (as defined by Kader 2007) of every sublcass of first_group variable by topic_name\n",
    "# E.g. unalikeability of project location for each aid donor -> calc_unalikeability(gaid, 'donors', 'ad_sector_names')\n",
    "\n",
    "def calc_unalikeability(data, first_group, topic_name):\n",
    "    \n",
    "    # prepare data: group by first_group and topic_name, and divide by the size of the respective group\n",
    "    # thus we obtain the share that each topic_name has in the respective first_group\n",
    "    \n",
    "    d = (data.groupby([first_group, topic_name]).size() / gaid.groupby([first_group]).size())\n",
    "    \n",
    "    # here we get the keys for the first level grouping. So, the unique values of first group column\n",
    "    keys = []\n",
    "    for i in d.index:\n",
    "        keys.append(i[0])\n",
    "    keys = set(keys)\n",
    "    \n",
    "    # here we calculate the actual coefficient\n",
    "    # for every value of first_group we calculate its coefficient:\n",
    "    # coefficient is defined as 1 - SUM_i(p_i^2), where p_i is the share of the ith subgroup in the total group. \n",
    "    \n",
    "    coefs = {}\n",
    "    for key in keys:\n",
    "        s = 0\n",
    "        for subgroup in d[key]:\n",
    "            s += subgroup ** 2\n",
    "        coef = 1 - s\n",
    "        coefs[key] = coef\n",
    "    return pd.Series(coefs)\n",
    "\n",
    "\n",
    "# calculates the variablity of topic_name (e.g. total commitments of money) for every member of first_group\n",
    "def calc_var(data, first_group, topic_name):\n",
    "    d = data.groupby(first_group)\n",
    "    \n",
    "    def var(d):\n",
    "        d = d[topic_name]\n",
    "        d = (d - min(d)) / (max(d) - min(d))\n",
    "        \n",
    "        if np.isnan(np.var(d)):\n",
    "            return 0\n",
    "        \n",
    "        return np.var(d)\n",
    "    \n",
    "    return d.apply(var)"
   ]
  },
  {
   "cell_type": "code",
   "execution_count": 66,
   "metadata": {
    "scrolled": true
   },
   "outputs": [],
   "source": [
    "adaptability_by_focus = calc_unalikeability(gaid, 'donors', 'ad_sector_names')\n",
    "adaptability_by_location =calc_unalikeability(gaid, 'donors', 'NAME_1')\n",
    "adaptability_by_start_year = calc_unalikeability(gaid, 'donors', 'transactions_start_year')\n",
    "adaptability_by_commitment = calc_var(gaid, 'donors', 'total_commitments')\n",
    "\n",
    "#pd.DataFrame.from_dict(adaptability_by_focus, orient = 'index').to_csv('measures_indices\\\\adaptability_by_focus.csv')\n",
    "#pd.DataFrame.from_dict(adaptability_by_location, orient = 'index').to_csv('measures_indices\\\\adaptability_by_location.csv')\n",
    "#pd.DataFrame.from_dict(adaptability_by_start_year, orient = 'index').to_csv('measures_indices\\\\adaptability_by_start_year.csv')\n",
    "#adaptability_by_commitment.to_csv('measures_indices\\\\adaptability_by_commitments.csv')\n",
    "(adaptability_by_commitment + adaptability_by_start_year + adaptability_by_location + adaptability_by_focus).to_csv('measures_indices\\\\composite_adaptability.csv')"
   ]
  },
  {
   "cell_type": "code",
   "execution_count": null,
   "metadata": {
    "collapsed": true
   },
   "outputs": [],
   "source": []
  },
  {
   "cell_type": "code",
   "execution_count": 65,
   "metadata": {
    "scrolled": true
   },
   "outputs": [
    {
     "data": {
      "text/plain": [
       "donors\n",
       "African Development Fund                           2.161120\n",
       "Department for International Development           2.528735\n",
       "Deutsche Gesellschaft Technische Zusammenarbeit    2.174674\n",
       "Embassy of Belgium                                 2.683868\n",
       "Embassy of Canada                                  1.984983\n",
       "Embassy of Germany                                 1.658163\n",
       "Embassy of Japan                                   2.171068\n",
       "Embassy of Netherlands                             2.427785\n",
       "Embassy of Sweden                                  2.324464\n",
       "European Commission                                2.514729\n",
       "European Investment Bank                           0.777778\n",
       "Global Environmental Facility                      1.364583\n",
       "KfW Bankengruppe                                   1.323326\n",
       "Korea International Cooperation Agency             1.065089\n",
       "Ministry of Finance                                2.034583\n",
       "Poland Ministry of Foreign Affairs                 0.666667\n",
       "UNDP                                               2.388835\n",
       "USAID                                              2.241062\n",
       "World Bank                                         2.507567\n",
       "dtype: float64"
      ]
     },
     "execution_count": 65,
     "metadata": {},
     "output_type": "execute_result"
    }
   ],
   "source": []
  },
  {
   "cell_type": "code",
   "execution_count": null,
   "metadata": {
    "collapsed": true
   },
   "outputs": [],
   "source": []
  }
 ],
 "metadata": {
  "kernelspec": {
   "display_name": "Python 3",
   "language": "python",
   "name": "python3"
  },
  "language_info": {
   "codemirror_mode": {
    "name": "ipython",
    "version": 3
   },
   "file_extension": ".py",
   "mimetype": "text/x-python",
   "name": "python",
   "nbconvert_exporter": "python",
   "pygments_lexer": "ipython3",
   "version": "3.6.3"
  }
 },
 "nbformat": 4,
 "nbformat_minor": 2
}

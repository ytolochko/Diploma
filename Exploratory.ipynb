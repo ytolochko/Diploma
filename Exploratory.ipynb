{
 "cells": [
  {
   "cell_type": "code",
   "execution_count": 17,
   "metadata": {
    "collapsed": true
   },
   "outputs": [],
   "source": [
    "import geopandas as gpd\n",
    "from shapely.geometry import Point"
   ]
  },
  {
   "cell_type": "code",
   "execution_count": 9,
   "metadata": {
    "collapsed": true
   },
   "outputs": [],
   "source": [
    "import pandas as pd\n",
    "import re as re"
   ]
  },
  {
   "cell_type": "code",
   "execution_count": 32,
   "metadata": {},
   "outputs": [],
   "source": [
    "conflict = pd.read_csv('Data\\\\conflict_data\\\\DRC_2.csv', header = 0, index_col = 0)\n",
    "aid = pd.read_csv('Data\\\\aid_data\\\\data\\\\level_1a.csv')\n",
    "\n",
    "# Extract ADM1 for aid data\n",
    "def extract_adm_1(x):\n",
    "    location = x.split('|')\n",
    "    try:\n",
    "        return location[3]\n",
    "    except:\n",
    "        return 'NA'\n",
    "# add extra column with data on ADM1 locations\n",
    "aid['adm_1'] = aid['gazetteer_adm_name'].apply(extract_adm_1)\n"
   ]
  },
  {
   "cell_type": "code",
   "execution_count": 347,
   "metadata": {
    "collapsed": true
   },
   "outputs": [],
   "source": [
    "# replace region with province for unifrom coding between aid and conflict datasets\n",
    "conflict = conflict[pd.notnull(conflict['adm_1'])]\n",
    "conflict['adm_1'] = conflict['adm_1'].apply(lambda x: x.replace('region', 'province'))"
   ]
  },
  {
   "cell_type": "code",
   "execution_count": 353,
   "metadata": {
    "collapsed": true
   },
   "outputs": [],
   "source": [
    "grouped_aid = aid.groupby('adm_1').count().iloc[:, 0]\n",
    "grouped_conflict = conflict.groupby('adm_1').count().iloc[:, 0]"
   ]
  },
  {
   "cell_type": "code",
   "execution_count": 354,
   "metadata": {},
   "outputs": [
    {
     "data": {
      "text/plain": [
       "adm_1\n",
       "Bandundu province       6\n",
       "Bas-Congo              33\n",
       "Eastern               601\n",
       "Kasaï Occidental       26\n",
       "Kasaï Oriental         31\n",
       "Katanga               192\n",
       "Kinshasa               68\n",
       "Maniema                51\n",
       "Nord Kivu            1152\n",
       "Sud Kivu              549\n",
       "Équateur               87\n",
       "Name: year, dtype: int64"
      ]
     },
     "execution_count": 354,
     "metadata": {},
     "output_type": "execute_result"
    }
   ],
   "source": [
    "grouped_conflict"
   ]
  },
  {
   "cell_type": "code",
   "execution_count": 355,
   "metadata": {},
   "outputs": [
    {
     "data": {
      "text/plain": [
       "adm_1\n",
       "Bandundu Province               148\n",
       "Eastern                         135\n",
       "Katanga                         208\n",
       "Kinshasa                        189\n",
       "NA                               99\n",
       "Nord Kivu                       189\n",
       "Province de l’Équateur          172\n",
       "Province du Bas-Congo           103\n",
       "Province du Kasaï-Occidental     95\n",
       "Province du Kasaï-Oriental       98\n",
       "Province du Maniema              74\n",
       "Sud Kivu                        186\n",
       "Name: project_id, dtype: int64"
      ]
     },
     "execution_count": 355,
     "metadata": {},
     "output_type": "execute_result"
    }
   ],
   "source": [
    "grouped_aid[grouped_aid > 10]"
   ]
  },
  {
   "cell_type": "code",
   "execution_count": 351,
   "metadata": {
    "collapsed": true
   },
   "outputs": [],
   "source": [
    "# TODO: \n",
    "\n",
    "def recode_provinces(x):\n",
    "    pattern_1 = re.compile(r'(Tanganyika|Haut-Lomami|Lualaba|Haut-Katanga|Katanga|Shaba)') # recode to Katanga\n",
    "    pattern_2 = re.compile(r'(Lomami|Sankuru|Kasaï-Oriental)') # recode to Kasaï-Oriental\n",
    "    pattern_3 = re.compile(r'(Kasaï-Central)') # recode to Kasaï-Occidental\n",
    "    pattern_4 = re.compile(r'(Kwango|Kwilu|Mai-Ndombe)') # recode to Bandundu\n",
    "    pattern_5 = re.compile(r'(Bas-Uélé|Haut-Uélé|Ituri|Haut-Zaïre|Haut Congo|Orientale|Eastern)') # recode to Eastern\n",
    "    pattern_6 = re.compile(r'(Bas Congo|Bas Zaïre)') # recode to Bas-Congo\n",
    "    pattern_7 = re.compile(r'(Kasaï-Occidental|Kasaï Occidental)') # recode to Kasaï Occidental\n",
    "    \n",
    "    pattern_8 = re.compile(r'(Bandunu)') # recode to Bandunu\n",
    "    pattern_9 = re.compile(r'(Katanga)') # recode to Katanga\n",
    "    pattern_10 = re.compile(r'(Kinshasa )') # recode to Kinshasa\n",
    "    pattern_11 = re.compile(r'(Équateur )') # recode to Équateur\n",
    "    pattern_12 = re.compile(r'(Nord Kivu)') # recode to Nord Kivu\n",
    "    pattern_13 = re.compile(r'(Sud Kivu|South Kivu)') # recode to Sud Kivu\n",
    "    pattern_14 = re.compile(r'(Maniema )') # recode to Maniema\n",
    "    pattern_15 = re.compile(r'(Kasaï Oriental|Kasaï-Oriental)') # recode to Kasaï Oriental\n",
    "\n",
    "    if re.match(pattern_1, x):\n",
    "        return 'Katanga'\n",
    "    elif re.match(pattern_2, x):\n",
    "        return 'Kasaï Oriental'\n",
    "    elif re.match(pattern_3, x):\n",
    "        return 'Kasaï Occidental'\n",
    "    elif re.match(pattern_4, x):\n",
    "        return 'Bandundu'\n",
    "    elif re.match(pattern_5, x):\n",
    "        return 'Eastern'\n",
    "    elif re.match(pattern_6, x):\n",
    "        return 'Bas-Congo'\n",
    "    elif re.match(pattern_7, x):\n",
    "        return 'Kasaï Occidental'\n",
    "    \n",
    "    elif re.match(pattern_8, x):\n",
    "        return 'Bandunu'\n",
    "    elif re.match(pattern_9, x):\n",
    "        return 'Katanga'\n",
    "    elif re.match(pattern_10, x):\n",
    "        return 'Kinshasa'\n",
    "    elif re.match(pattern_11, x):\n",
    "        return 'Équateur'  \n",
    "    elif re.match(pattern_12, x):\n",
    "        return 'Nord Kivu'\n",
    "    elif re.match(pattern_13, x):\n",
    "        return 'Sud Kivu'\n",
    "    elif re.match(pattern_14, x):\n",
    "        return 'Maniema'\n",
    "    elif re.match(pattern_15, x):\n",
    "        return 'Kasaï Oriental'    \n",
    "    return x\n",
    "\n",
    "conflict['adm_1'] = conflict['adm_1'].apply(recode_provinces)\n",
    "aid['adm_1'] = aid['adm_1'].apply(recode_provinces)\n",
    "\n",
    "# Recode the provinces in such a way that they match each other:\n",
    "# e.g. Easter province = Orientale province\n",
    "# aid data has 11 provinces(old way ADMs)\n",
    "# conflict data uses new provinces. Solution: recode conflict data to 11 old provinces (using wikipedia)"
   ]
  },
  {
   "cell_type": "code",
   "execution_count": 207,
   "metadata": {
    "collapsed": true,
    "scrolled": true
   },
   "outputs": [],
   "source": [
    "pattern = re.compile(r'(Bas-Uélé|Haut-Uélé|Ituri)')\n",
    "for i in pattern.finditer('Kasaï Oriental province, Kasaï-Central province'):\n",
    "    print(i)"
   ]
  },
  {
   "cell_type": "code",
   "execution_count": 367,
   "metadata": {
    "collapsed": true
   },
   "outputs": [],
   "source": [
    "# SOLVE THIS, doesn't match if looked at backwards\n",
    "if re.match(r'Équateur', 'l asdasd Équateur'):\n",
    "    print('Y')"
   ]
  },
  {
   "cell_type": "code",
   "execution_count": 370,
   "metadata": {
    "scrolled": true
   },
   "outputs": [
    {
     "name": "stdout",
     "output_type": "stream",
     "text": [
      "Y\n"
     ]
    }
   ],
   "source": [
    "# SOLVE THIS\n",
    "if re.match(r'(Tanganyika|Haut-Lomami|Lualaba|Haut-Katanga)', 'Haut-Lomami province'):\n",
    "    print('Y')"
   ]
  },
  {
   "cell_type": "code",
   "execution_count": 262,
   "metadata": {},
   "outputs": [
    {
     "data": {
      "text/plain": [
       "id\n",
       "9607     Sud Kivu province\n",
       "9735     Sud Kivu province\n",
       "9868     Sud Kivu province\n",
       "10068    Sud Kivu province\n",
       "10424    Sud Kivu province\n",
       "Name: adm_1, dtype: object"
      ]
     },
     "execution_count": 262,
     "metadata": {},
     "output_type": "execute_result"
    }
   ],
   "source": [
    "conflict['adm_1'].head().apply(recode_provinces)"
   ]
  },
  {
   "cell_type": "code",
   "execution_count": null,
   "metadata": {
    "collapsed": true
   },
   "outputs": [],
   "source": []
  },
  {
   "cell_type": "code",
   "execution_count": null,
   "metadata": {
    "collapsed": true
   },
   "outputs": [],
   "source": []
  },
  {
   "cell_type": "code",
   "execution_count": 33,
   "metadata": {
    "collapsed": true
   },
   "outputs": [],
   "source": [
    "provinces = gpd.read_file('C:\\\\Users\\\\Yurii\\\\Desktop\\\\Konstanz stuff\\\\Diploma\\\\Data\\\\gadm36_COD_shp/gadm36_COD_1.shp')"
   ]
  },
  {
   "cell_type": "code",
   "execution_count": 35,
   "metadata": {
    "collapsed": true
   },
   "outputs": [],
   "source": [
    "geometry = [Point(xy) for xy in zip(conflict.longitude, conflict.latitude)]\n",
    "gconflict = gpd.GeoDataFrame(conflict, crs = {'init': 'epsg:4326'}, geometry = geometry)"
   ]
  },
  {
   "cell_type": "code",
   "execution_count": 37,
   "metadata": {},
   "outputs": [],
   "source": [
    "test = gpd.sjoin(gconflict, provinces, how=\"inner\", op='intersects')"
   ]
  },
  {
   "cell_type": "code",
   "execution_count": 44,
   "metadata": {},
   "outputs": [
    {
     "data": {
      "text/html": [
       "<div>\n",
       "<style>\n",
       "    .dataframe thead tr:only-child th {\n",
       "        text-align: right;\n",
       "    }\n",
       "\n",
       "    .dataframe thead th {\n",
       "        text-align: left;\n",
       "    }\n",
       "\n",
       "    .dataframe tbody tr th {\n",
       "        vertical-align: top;\n",
       "    }\n",
       "</style>\n",
       "<table border=\"1\" class=\"dataframe\">\n",
       "  <thead>\n",
       "    <tr style=\"text-align: right;\">\n",
       "      <th></th>\n",
       "      <th>NAME_1</th>\n",
       "      <th>deaths_civilians</th>\n",
       "      <th>where_coordinates</th>\n",
       "      <th>adm_1</th>\n",
       "      <th>geometry</th>\n",
       "    </tr>\n",
       "  </thead>\n",
       "  <tbody>\n",
       "    <tr>\n",
       "      <th>6803</th>\n",
       "      <td>Tshopo</td>\n",
       "      <td>4</td>\n",
       "      <td>DR Congo (Zaire)</td>\n",
       "      <td>NaN</td>\n",
       "      <td>POINT (25 0)</td>\n",
       "    </tr>\n",
       "    <tr>\n",
       "      <th>20294</th>\n",
       "      <td>Tshopo</td>\n",
       "      <td>1</td>\n",
       "      <td>DR Congo (Zaire)</td>\n",
       "      <td>NaN</td>\n",
       "      <td>POINT (25 0)</td>\n",
       "    </tr>\n",
       "    <tr>\n",
       "      <th>22978</th>\n",
       "      <td>Tshopo</td>\n",
       "      <td>40</td>\n",
       "      <td>Bafwasende location</td>\n",
       "      <td>Orientale province</td>\n",
       "      <td>POINT (27.266667 1.083333)</td>\n",
       "    </tr>\n",
       "    <tr>\n",
       "      <th>22983</th>\n",
       "      <td>Tshopo</td>\n",
       "      <td>36</td>\n",
       "      <td>Bafwasende zone</td>\n",
       "      <td>Haut-Zaïre region</td>\n",
       "      <td>POINT (27.266667 1.083333)</td>\n",
       "    </tr>\n",
       "    <tr>\n",
       "      <th>23011</th>\n",
       "      <td>Tshopo</td>\n",
       "      <td>0</td>\n",
       "      <td>Bengamisa locality</td>\n",
       "      <td>Haut-Zaïre region</td>\n",
       "      <td>POINT (25.211267 0.930883)</td>\n",
       "    </tr>\n",
       "  </tbody>\n",
       "</table>\n",
       "</div>"
      ],
      "text/plain": [
       "       NAME_1  deaths_civilians    where_coordinates               adm_1  \\\n",
       "6803   Tshopo                 4     DR Congo (Zaire)                 NaN   \n",
       "20294  Tshopo                 1     DR Congo (Zaire)                 NaN   \n",
       "22978  Tshopo                40  Bafwasende location  Orientale province   \n",
       "22983  Tshopo                36      Bafwasende zone   Haut-Zaïre region   \n",
       "23011  Tshopo                 0   Bengamisa locality   Haut-Zaïre region   \n",
       "\n",
       "                         geometry  \n",
       "6803                 POINT (25 0)  \n",
       "20294                POINT (25 0)  \n",
       "22978  POINT (27.266667 1.083333)  \n",
       "22983  POINT (27.266667 1.083333)  \n",
       "23011  POINT (25.211267 0.930883)  "
      ]
     },
     "execution_count": 44,
     "metadata": {},
     "output_type": "execute_result"
    }
   ],
   "source": [
    "test[['NAME_1', 'deaths_civilians', 'where_coordinates', 'adm_1', 'geometry']].head()"
   ]
  },
  {
   "cell_type": "code",
   "execution_count": null,
   "metadata": {
    "collapsed": true
   },
   "outputs": [],
   "source": []
  }
 ],
 "metadata": {
  "kernelspec": {
   "display_name": "Python 3",
   "language": "python",
   "name": "python3"
  },
  "language_info": {
   "codemirror_mode": {
    "name": "ipython",
    "version": 3
   },
   "file_extension": ".py",
   "mimetype": "text/x-python",
   "name": "python",
   "nbconvert_exporter": "python",
   "pygments_lexer": "ipython3",
   "version": "3.6.3"
  }
 },
 "nbformat": 4,
 "nbformat_minor": 2
}
